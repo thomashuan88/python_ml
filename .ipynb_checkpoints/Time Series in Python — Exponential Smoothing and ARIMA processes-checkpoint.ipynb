{
 "cells": [
  {
   "cell_type": "code",
   "execution_count": 3,
   "metadata": {},
   "outputs": [],
   "source": [
    "# https://towardsdatascience.com/time-series-in-python-exponential-smoothing-and-arima-processes-2c67f2a52788"
   ]
  },
  {
   "cell_type": "code",
   "execution_count": null,
   "metadata": {},
   "outputs": [],
   "source": [
    "import requests\n",
    "import pandas as pd\n",
    "import json\n",
    "import matplotlib.pyplot as plt\n",
    "import matplotlib.dates as mdates\n",
    "%matplotlib inline\n",
    "plt.style.use('Solarize_Light2')\n",
    "\n",
    "r = requests.get('https://datamarket.com/api/v1/list.json?ds=22qx')\n",
    "\n",
    "print(r)\n",
    "# jobj = json.loads(r.text[18:-1])\n",
    "# data = jobj[0]['data']\n",
    "# df = pd.DataFrame(data, columns['time','data']).set_index('time')\n",
    "# train = df.iloc[:-10, :]\n",
    "# test = df.iloc[-10:, :]\n",
    "# pred = test.copy()\n"
   ]
  },
  {
   "cell_type": "code",
   "execution_count": null,
   "metadata": {},
   "outputs": [],
   "source": []
  }
 ],
 "metadata": {
  "kernelspec": {
   "display_name": "Python 3",
   "language": "python",
   "name": "python3"
  },
  "language_info": {
   "codemirror_mode": {
    "name": "ipython",
    "version": 3
   },
   "file_extension": ".py",
   "mimetype": "text/x-python",
   "name": "python",
   "nbconvert_exporter": "python",
   "pygments_lexer": "ipython3",
   "version": "3.6.8"
  }
 },
 "nbformat": 4,
 "nbformat_minor": 2
}
