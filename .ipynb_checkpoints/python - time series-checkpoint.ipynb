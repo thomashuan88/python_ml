{
 "cells": [
  {
   "cell_type": "code",
   "execution_count": 2,
   "metadata": {},
   "outputs": [
    {
     "data": {
      "text/plain": [
       "'d:\\\\dev\\\\python_ml'"
      ]
     },
     "execution_count": 2,
     "metadata": {},
     "output_type": "execute_result"
    }
   ],
   "source": [
    "%pwd\n",
    "# https://stackabuse.com/time-series-analysis-with-lstm-using-pythons-keras-library/\n",
    "# https://towardsdatascience.com/time-series-in-python-exponential-smoothing-and-arima-processes-2c67f2a52788\n",
    "# https://towardsdatascience.com/time-series-in-python-part-2-dealing-with-seasonal-data-397a65b74051\n",
    "# https://towardsdatascience.com/time-series-in-python-part-3-forecasting-taxi-trips-with-lstms-277afd4f811\n",
    "# https://machinelearning.samcart.com/products/deep-learning-for-time-series-forecasting/"
   ]
  },
  {
   "cell_type": "code",
   "execution_count": 4,
   "metadata": {},
   "outputs": [
    {
     "name": "stdout",
     "output_type": "stream",
     "text": [
      "         Date      Open      High       Low     Close  Adj Close     Volume\n",
      "0  2000-05-22  3.348214  3.348214  3.071429  3.212054   2.133590  188876800\n",
      "1  2000-05-23  3.232143  3.334821  3.058036  3.064732   2.035733  129396400\n",
      "2  2000-05-24  3.078125  3.205357  2.964286  3.131696   2.080215  169615600\n",
      "3  2000-05-25  3.160714  3.309150  3.071429  3.116629   2.070205  101687600\n",
      "4  2000-05-26  3.142857  3.209821  3.044643  3.084821   2.049076   45287200\n",
      "(4778, 7)\n"
     ]
    }
   ],
   "source": [
    "import pandas as pd\n",
    "appl_data = pd.read_csv(\"./AAPL.csv\")\n",
    "print(appl_data.head())\n",
    "print(appl_data.shape)"
   ]
  },
  {
   "cell_type": "code",
   "execution_count": 5,
   "metadata": {},
   "outputs": [
    {
     "data": {
      "text/plain": [
       "Date          object\n",
       "Open         float64\n",
       "High         float64\n",
       "Low          float64\n",
       "Close        float64\n",
       "Adj Close    float64\n",
       "Volume         int64\n",
       "dtype: object"
      ]
     },
     "execution_count": 5,
     "metadata": {},
     "output_type": "execute_result"
    }
   ],
   "source": [
    "appl_data.dtypes"
   ]
  },
  {
   "cell_type": "code",
   "execution_count": 34,
   "metadata": {},
   "outputs": [],
   "source": [
    "import datetime\n",
    "import requests\n",
    "from bokeh.plotting import figure, show, output_file"
   ]
  },
  {
   "cell_type": "code",
   "execution_count": 35,
   "metadata": {},
   "outputs": [],
   "source": [
    "appl_data['Date'] = pd.to_datetime(appl_data['Date'])"
   ]
  },
  {
   "cell_type": "code",
   "execution_count": 36,
   "metadata": {},
   "outputs": [],
   "source": [
    "appl_data = appl_data.sort_values(by=['Date'])\n",
    "df = appl_data\n"
   ]
  },
  {
   "cell_type": "code",
   "execution_count": 41,
   "metadata": {},
   "outputs": [],
   "source": [
    "from math import pi\n",
    "\n",
    "inc = df.Close > df.Open\n",
    "dec = df.Open > df.Close\n",
    "w = 12*60*60*1000\n",
    "TOOLS = \"pan,wheel_zoom,box_zoom,reset,save\"\n",
    "\n",
    "title = 'AAPL' + ' chart'\n",
    "p = figure(x_axis_type=\"datetime\", tools=TOOLS, plot_width=1000, title=title)\n",
    "p.xaxis.major_label_orientation = pi/4\n",
    "p.grid.grid_line_alpha=0.3\n",
    "\n",
    "p.segment(df.Date, df.High, df.Date, df.Low, color=\"black\")\n",
    "p.vbar(df.Date[inc], w, df.Open[inc], df.Close[inc], fill_color=\"#D5E1DD\", line_color=\"black\")\n",
    "p.vbar(df.Date[dec], w, df.Open[dec], df.Close[dec], fill_color=\"#F2583E\", line_color=\"black\")\n",
    "\n",
    "#Store as a HTML file\n",
    "output_file(\"stock_information.html\", title=\"candlestick example\")\n",
    "\n",
    "show(p)"
   ]
  },
  {
   "cell_type": "code",
   "execution_count": 1,
   "metadata": {},
   "outputs": [
    {
     "name": "stdout",
     "output_type": "stream",
     "text": [
      "         Date      Open      High       Low     Close  Adj Close     Volume\n",
      "0  2001-01-02  1.062500  1.089286  1.040179  1.062500   0.705760  113078000\n",
      "1  2001-01-03  1.035714  1.191964  1.031250  1.169643   0.776929  204268400\n",
      "2  2001-01-04  1.295757  1.321429  1.200893  1.218750   0.809549  184849000\n",
      "3  2001-01-05  1.209821  1.241071  1.147321  1.169643   0.776929  103089000\n",
      "4  2001-01-08  1.209821  1.213164  1.138393  1.183036   0.785826   93424800\n",
      "(2460, 7)\n"
     ]
    },
    {
     "data": {
      "text/plain": [
       "array([[ 1.0625  ],\n",
       "       [ 1.035714],\n",
       "       [ 1.295757],\n",
       "       ...,\n",
       "       [42.105713],\n",
       "       [42.201427],\n",
       "       [42.885715]])"
      ]
     },
     "execution_count": 1,
     "metadata": {},
     "output_type": "execute_result"
    }
   ],
   "source": [
    "import numpy as np\n",
    "import matplotlib.pyplot as plt\n",
    "import pandas as pd\n",
    "appl_data = pd.read_csv(\"./appl_train2.csv\")\n",
    "print(appl_data.head())\n",
    "print(appl_data.shape)\n",
    "\n",
    "df = appl_data\n",
    "df_training_processed = df.iloc[:, 1:2].values\n",
    "\n",
    "df_training_processed"
   ]
  },
  {
   "cell_type": "code",
   "execution_count": 2,
   "metadata": {},
   "outputs": [],
   "source": [
    "# Data Normalization\n",
    "# As a rule of thumb, whenever you use a neural network, you should normalize or scale your data. \n",
    "# We will use MinMaxScaler class from the sklear.preprocessing library to scale our data between 0 and 1. \n",
    "# The feature_range parameter is used to specify the range of the scaled data. Execute the following script:\n",
    "\n",
    "from sklearn.preprocessing import MinMaxScaler\n",
    "scaler = MinMaxScaler(feature_range = (0,1))\n",
    "\n",
    "df_training_scaled = scaler.fit_transform(df_training_processed)"
   ]
  },
  {
   "cell_type": "code",
   "execution_count": 3,
   "metadata": {},
   "outputs": [
    {
     "name": "stdout",
     "output_type": "stream",
     "text": [
      "0.015491734587595011\n",
      "[0.00320901 0.0025706  0.00876832 0.00672017]\n",
      "[0.01494697 0.01627483 0.01549173 ... 0.98140987 0.98369106 1.        ]\n"
     ]
    }
   ],
   "source": [
    "features_set = []\n",
    "labels = []\n",
    "for i in range(60, 2460):\n",
    "    features_set.append(df_training_scaled[i-60:i, 0])\n",
    "    labels.append(df_training_scaled[i, 0])\n",
    "    \n",
    "features_set, labels = np.array(features_set), np.array(labels)\n",
    "\n",
    "print(df_training_scaled[62,0])\n",
    "print(df_training_scaled[0:4, 0])\n",
    "print(labels)"
   ]
  },
  {
   "cell_type": "code",
   "execution_count": 5,
   "metadata": {},
   "outputs": [
    {
     "data": {
      "text/plain": [
       "(2400, 60, 1)"
      ]
     },
     "execution_count": 5,
     "metadata": {},
     "output_type": "execute_result"
    }
   ],
   "source": [
    "features_set = np.reshape(features_set, (features_set.shape[0], features_set.shape[1], 1))\n",
    "features_set.shape"
   ]
  },
  {
   "cell_type": "code",
   "execution_count": 115,
   "metadata": {},
   "outputs": [],
   "source": [
    "from keras.models import Sequential\n",
    "from keras.layers import Dense\n",
    "from keras.layers import LSTM\n",
    "from keras.layers import Dropout"
   ]
  },
  {
   "cell_type": "code",
   "execution_count": 116,
   "metadata": {
    "scrolled": false
   },
   "outputs": [
    {
     "name": "stdout",
     "output_type": "stream",
     "text": [
      "Epoch 1/100\n",
      "2400/2400 [==============================] - 17s 7ms/step - loss: 0.0124\n",
      "Epoch 2/100\n",
      "2400/2400 [==============================] - 7s 3ms/step - loss: 0.0025\n",
      "Epoch 3/100\n",
      "2400/2400 [==============================] - 7s 3ms/step - loss: 0.0020\n",
      "Epoch 4/100\n",
      "2400/2400 [==============================] - 7s 3ms/step - loss: 0.0021\n",
      "Epoch 5/100\n",
      "2400/2400 [==============================] - 7s 3ms/step - loss: 0.0021\n",
      "Epoch 6/100\n",
      "2400/2400 [==============================] - 7s 3ms/step - loss: 0.0021\n",
      "Epoch 7/100\n",
      "2400/2400 [==============================] - 7s 3ms/step - loss: 0.0019\n",
      "Epoch 8/100\n",
      "2400/2400 [==============================] - 7s 3ms/step - loss: 0.0018\n",
      "Epoch 9/100\n",
      "2400/2400 [==============================] - 7s 3ms/step - loss: 0.0017\n",
      "Epoch 10/100\n",
      "2400/2400 [==============================] - 7s 3ms/step - loss: 0.0017\n",
      "Epoch 11/100\n",
      "2400/2400 [==============================] - 7s 3ms/step - loss: 0.0017\n",
      "Epoch 12/100\n",
      "2400/2400 [==============================] - 7s 3ms/step - loss: 0.0014A: 0s - loss: 0.001\n",
      "Epoch 13/100\n",
      "2400/2400 [==============================] - 7s 3ms/step - loss: 0.0015\n",
      "Epoch 14/100\n",
      "2400/2400 [==============================] - 7s 3ms/step - loss: 0.0013\n",
      "Epoch 15/100\n",
      "2400/2400 [==============================] - 7s 3ms/step - loss: 0.0013A: 1s - l - ETA: 0s - loss: \n",
      "Epoch 16/100\n",
      "2400/2400 [==============================] - 7s 3ms/step - loss: 0.0013\n",
      "Epoch 17/100\n",
      "2400/2400 [==============================] - 7s 3ms/step - loss: 0.0013\n",
      "Epoch 18/100\n",
      "2400/2400 [==============================] - 7s 3ms/step - loss: 0.0012\n",
      "Epoch 19/100\n",
      "2400/2400 [==============================] - 7s 3ms/step - loss: 0.0015\n",
      "Epoch 20/100\n",
      "2400/2400 [==============================] - 7s 3ms/step - loss: 0.0014A: \n",
      "Epoch 21/100\n",
      "2400/2400 [==============================] - 7s 3ms/step - loss: 0.0011\n",
      "Epoch 22/100\n",
      "2400/2400 [==============================] - 7s 3ms/step - loss: 0.0013\n",
      "Epoch 23/100\n",
      "2400/2400 [==============================] - 7s 3ms/step - loss: 0.0014A: 1s\n",
      "Epoch 24/100\n",
      "2400/2400 [==============================] - 7s 3ms/step - loss: 0.0010\n",
      "Epoch 25/100\n",
      "2400/2400 [==============================] - 7s 3ms/step - loss: 0.0011\n",
      "Epoch 26/100\n",
      "2400/2400 [==============================] - 7s 3ms/step - loss: 0.0011A: 1s -\n",
      "Epoch 27/100\n",
      "2400/2400 [==============================] - 7s 3ms/step - loss: 0.0011A: 0s - loss: 0\n",
      "Epoch 28/100\n",
      "2400/2400 [==============================] - 7s 3ms/step - loss: 0.0010\n",
      "Epoch 29/100\n",
      "2400/2400 [==============================] - 7s 3ms/step - loss: 0.0011\n",
      "Epoch 30/100\n",
      "2400/2400 [==============================] - 7s 3ms/step - loss: 9.1187e-04A: 1s \n",
      "Epoch 31/100\n",
      "2400/2400 [==============================] - 7s 3ms/step - loss: 0.0011\n",
      "Epoch 32/100\n",
      "2400/2400 [==============================] - 7s 3ms/step - loss: 9.9780e-04\n",
      "Epoch 33/100\n",
      "2400/2400 [==============================] - 7s 3ms/step - loss: 9.4618e-04\n",
      "Epoch 34/100\n",
      "2400/2400 [==============================] - 7s 3ms/step - loss: 0.0010\n",
      "Epoch 35/100\n",
      "2400/2400 [==============================] - 7s 3ms/step - loss: 9.5748e-04\n",
      "Epoch 36/100\n",
      "2400/2400 [==============================] - 7s 3ms/step - loss: 9.3547e-04\n",
      "Epoch 37/100\n",
      "2400/2400 [==============================] - 7s 3ms/step - loss: 0.0010\n",
      "Epoch 38/100\n",
      "2400/2400 [==============================] - 7s 3ms/step - loss: 8.7694e-04\n",
      "Epoch 39/100\n",
      "2400/2400 [==============================] - 7s 3ms/step - loss: 9.9715e-04\n",
      "Epoch 40/100\n",
      "2400/2400 [==============================] - 7s 3ms/step - loss: 9.5535e-04\n",
      "Epoch 41/100\n",
      "2400/2400 [==============================] - 7s 3ms/step - loss: 9.3487e-04A: 0s - loss: 9.2675e-0\n",
      "Epoch 42/100\n",
      "2400/2400 [==============================] - 7s 3ms/step - loss: 9.1225e-04\n",
      "Epoch 43/100\n",
      "2400/2400 [==============================] - 7s 3ms/step - loss: 9.3909e-04\n",
      "Epoch 44/100\n",
      "2400/2400 [==============================] - 7s 3ms/step - loss: 9.7687e-04\n",
      "Epoch 45/100\n",
      "2400/2400 [==============================] - 7s 3ms/step - loss: 8.4363e-04A: 0s - loss: 8.4\n",
      "Epoch 46/100\n",
      "2400/2400 [==============================] - 7s 3ms/step - loss: 8.7021e-04\n",
      "Epoch 47/100\n",
      "2400/2400 [==============================] - 7s 3ms/step - loss: 9.6488e-04\n",
      "Epoch 48/100\n",
      "2400/2400 [==============================] - 7s 3ms/step - loss: 9.2840e-04A: 1\n",
      "Epoch 49/100\n",
      "2400/2400 [==============================] - 7s 3ms/step - loss: 9.4721e-04\n",
      "Epoch 50/100\n",
      "2400/2400 [==============================] - 7s 3ms/step - loss: 9.1730e-04\n",
      "Epoch 51/100\n",
      "2400/2400 [==============================] - 7s 3ms/step - loss: 0.0010\n",
      "Epoch 52/100\n",
      "2400/2400 [==============================] - 7s 3ms/step - loss: 8.2377e-04\n",
      "Epoch 53/100\n",
      "2400/2400 [==============================] - 7s 3ms/step - loss: 8.0524e-04\n",
      "Epoch 54/100\n",
      "2400/2400 [==============================] - 7s 3ms/step - loss: 8.5391e-04\n",
      "Epoch 55/100\n",
      "2400/2400 [==============================] - 7s 3ms/step - loss: 8.3481e-04\n",
      "Epoch 56/100\n",
      "2400/2400 [==============================] - 7s 3ms/step - loss: 8.9248e-04\n",
      "Epoch 57/100\n",
      "2400/2400 [==============================] - 7s 3ms/step - loss: 8.1224e-04\n",
      "Epoch 58/100\n",
      "2400/2400 [==============================] - 7s 3ms/step - loss: 9.6336e-04\n",
      "Epoch 59/100\n",
      "2400/2400 [==============================] - 7s 3ms/step - loss: 9.0429e-04\n",
      "Epoch 60/100\n",
      "2400/2400 [==============================] - 7s 3ms/step - loss: 7.8095e-04\n",
      "Epoch 61/100\n",
      "2400/2400 [==============================] - 7s 3ms/step - loss: 7.5295e-04A: 0s - loss: 7\n",
      "Epoch 62/100\n",
      "2400/2400 [==============================] - 7s 3ms/step - loss: 8.3873e-04\n",
      "Epoch 63/100\n",
      "2400/2400 [==============================] - 7s 3ms/step - loss: 8.3445e-04\n",
      "Epoch 64/100\n",
      "2400/2400 [==============================] - 7s 3ms/step - loss: 7.4836e-04A: 0s - loss: 7.4864e\n",
      "Epoch 65/100\n",
      "2400/2400 [==============================] - 7s 3ms/step - loss: 7.4511e-04\n",
      "Epoch 66/100\n",
      "2400/2400 [==============================] - 7s 3ms/step - loss: 7.5854e-04\n",
      "Epoch 67/100\n",
      "2400/2400 [==============================] - 7s 3ms/step - loss: 8.4998e-04\n",
      "Epoch 68/100\n",
      "2400/2400 [==============================] - 7s 3ms/step - loss: 7.5846e-04\n",
      "Epoch 69/100\n",
      "2400/2400 [==============================] - 7s 3ms/step - loss: 7.5669e-04\n",
      "Epoch 70/100\n",
      "2400/2400 [==============================] - 7s 3ms/step - loss: 7.6841e-04\n",
      "Epoch 71/100\n",
      "2400/2400 [==============================] - 7s 3ms/step - loss: 7.2128e-04\n",
      "Epoch 72/100\n",
      "2400/2400 [==============================] - 7s 3ms/step - loss: 8.0719e-04 - ETA:\n",
      "Epoch 73/100\n",
      "2400/2400 [==============================] - 7s 3ms/step - loss: 7.4955e-04\n",
      "Epoch 74/100\n",
      "2400/2400 [==============================] - 7s 3ms/step - loss: 8.6614e-04\n",
      "Epoch 75/100\n",
      "2400/2400 [==============================] - 7s 3ms/step - loss: 8.7889e-04\n",
      "Epoch 76/100\n",
      "2400/2400 [==============================] - 7s 3ms/step - loss: 7.7538e-04\n",
      "Epoch 77/100\n",
      "2400/2400 [==============================] - 7s 3ms/step - loss: 8.6426e-04\n",
      "Epoch 78/100\n",
      "2400/2400 [==============================] - 7s 3ms/step - loss: 8.0432e-04\n",
      "Epoch 79/100\n",
      "2400/2400 [==============================] - 7s 3ms/step - loss: 7.4023e-04\n",
      "Epoch 80/100\n",
      "2400/2400 [==============================] - 7s 3ms/step - loss: 7.0524e-04\n",
      "Epoch 81/100\n",
      "2400/2400 [==============================] - 7s 3ms/step - loss: 7.4193e-04\n",
      "Epoch 82/100\n",
      "2400/2400 [==============================] - 7s 3ms/step - loss: 7.7016e-04\n",
      "Epoch 83/100\n",
      "2400/2400 [==============================] - 7s 3ms/step - loss: 7.0918e-04\n",
      "Epoch 84/100\n",
      "2400/2400 [==============================] - 7s 3ms/step - loss: 7.1840e-04\n",
      "Epoch 85/100\n",
      "2400/2400 [==============================] - 7s 3ms/step - loss: 8.1826e-04A: - ETA: 1s -\n",
      "Epoch 86/100\n",
      "2400/2400 [==============================] - 7s 3ms/step - loss: 7.9313e-04\n",
      "Epoch 87/100\n",
      "2400/2400 [==============================] - 7s 3ms/step - loss: 7.0667e-04\n",
      "Epoch 88/100\n",
      "2400/2400 [==============================] - 7s 3ms/step - loss: 7.9847e-04\n",
      "Epoch 89/100\n",
      "2400/2400 [==============================] - 7s 3ms/step - loss: 8.0493e-04\n",
      "Epoch 90/100\n",
      "2400/2400 [==============================] - 7s 3ms/step - loss: 6.9686e-04\n",
      "Epoch 91/100\n",
      "2400/2400 [==============================] - 7s 3ms/step - loss: 6.5307e-04\n",
      "Epoch 92/100\n",
      "2400/2400 [==============================] - 7s 3ms/step - loss: 6.7124e-04\n",
      "Epoch 93/100\n",
      "2400/2400 [==============================] - 7s 3ms/step - loss: 7.7040e-04\n",
      "Epoch 94/100\n",
      "2400/2400 [==============================] - 7s 3ms/step - loss: 7.6748e-04\n",
      "Epoch 95/100\n",
      "2400/2400 [==============================] - 7s 3ms/step - loss: 7.3600e-04\n",
      "Epoch 96/100\n",
      "2400/2400 [==============================] - 7s 3ms/step - loss: 6.9952e-04\n",
      "Epoch 97/100\n",
      "2400/2400 [==============================] - 7s 3ms/step - loss: 6.7081e-04\n",
      "Epoch 98/100\n",
      "2400/2400 [==============================] - 7s 3ms/step - loss: 6.7340e-04\n",
      "Epoch 99/100\n",
      "2400/2400 [==============================] - 7s 3ms/step - loss: 6.5332e-04\n",
      "Epoch 100/100\n",
      "2400/2400 [==============================] - 7s 3ms/step - loss: 7.7662e-04\n"
     ]
    },
    {
     "data": {
      "text/plain": [
       "<keras.callbacks.History at 0x1a7f381ddd8>"
      ]
     },
     "execution_count": 116,
     "metadata": {},
     "output_type": "execute_result"
    }
   ],
   "source": [
    "model = Sequential()\n",
    "model.add(LSTM(units=50, return_sequences=True, input_shape=(features_set.shape[1], 1)))\n",
    "model.add(Dropout(0.2))\n",
    "\n",
    "model.add(LSTM(units=50, return_sequences=True))\n",
    "model.add(Dropout(0.2))\n",
    "\n",
    "model.add(LSTM(units=50, return_sequences=True))\n",
    "model.add(Dropout(0.2))\n",
    "\n",
    "model.add(LSTM(units=50))\n",
    "model.add(Dropout(0.2))\n",
    "\n",
    "model.add(Dense(units=1))\n",
    "\n",
    "model.compile(optimizer='adam', loss='mean_squared_error')\n",
    "\n",
    "model.fit(features_set, labels, epochs = 100, batch_size = 32)"
   ]
  },
  {
   "cell_type": "code",
   "execution_count": 6,
   "metadata": {},
   "outputs": [],
   "source": [
    "apple_testing_complete = pd.read_csv('./appl_test2.csv')\n",
    "apple_testing_processed = apple_testing_complete.iloc[:, 1:2].values\n"
   ]
  },
  {
   "cell_type": "code",
   "execution_count": 10,
   "metadata": {},
   "outputs": [
    {
     "data": {
      "text/plain": [
       "[Text(0, 0.5, 'Open'),\n",
       " Text(0.5, 0, 'Date'),\n",
       " Text(0.5, 1.0, 'app test open price')]"
      ]
     },
     "execution_count": 10,
     "metadata": {},
     "output_type": "execute_result"
    },
    {
     "data": {
      "image/png": "[encoded data removed]",
      "text/plain": [
       "<Figure size 1080x720 with 1 Axes>"
      ]
     },
     "metadata": {
      "needs_background": "light"
     },
     "output_type": "display_data"
    }
   ],
   "source": [
    "import pandas as pd\n",
    "import matplotlib.pyplot as plt\n",
    "\n",
    "fig, ax = plt.subplots(figsize=(15,10))\n",
    "\n",
    "apple_testing_complete['Date'] = pd.to_datetime(apple_testing_complete['Date'])\n",
    "ax.plot(apple_testing_complete['Date'],\n",
    "        apple_testing_complete['Open'],\n",
    "        color='red')\n",
    "\n",
    "plt.setp(ax.get_xticklabels(), rotation=45)\n",
    "\n",
    "ax.set(xlabel='Date',\n",
    "      ylabel='Open',\n",
    "      title='app test open price')"
   ]
  },
  {
   "cell_type": "code",
   "execution_count": 119,
   "metadata": {},
   "outputs": [],
   "source": [
    "apple_total = pd.concat((df['Open'], apple_testing_complete['Open']), axis=0)\n"
   ]
  },
  {
   "cell_type": "code",
   "execution_count": 120,
   "metadata": {},
   "outputs": [
    {
     "name": "stdout",
     "output_type": "stream",
     "text": [
      "(90,)\n"
     ]
    }
   ],
   "source": [
    "test_inputs = apple_total[len(apple_total) - len(apple_testing_complete) - 60:].values\n",
    "print(test_inputs.shape)"
   ]
  },
  {
   "cell_type": "code",
   "execution_count": 121,
   "metadata": {},
   "outputs": [],
   "source": [
    "test_inputs = test_inputs.reshape(-1,1)\n",
    "test_inputs = scaler.transform(test_inputs)"
   ]
  },
  {
   "cell_type": "code",
   "execution_count": 122,
   "metadata": {},
   "outputs": [],
   "source": [
    "test_features = []\n",
    "for i in range(60, 90):\n",
    "    test_features.append(test_inputs[i-60:i, 0])"
   ]
  },
  {
   "cell_type": "code",
   "execution_count": 123,
   "metadata": {},
   "outputs": [],
   "source": [
    "test_features = np.array(test_features)\n",
    "test_features = np.reshape(test_features, (test_features.shape[0], test_features.shape[1], 1))\n",
    "\n",
    "predictions = model.predict(test_features)\n",
    "\n",
    "predictions = scaler.inverse_transform(predictions)"
   ]
  },
  {
   "cell_type": "code",
   "execution_count": 124,
   "metadata": {},
   "outputs": [
    {
     "data": {
      "image/png": "[encoded data removed]",
      "text/plain": [
       "<Figure size 720x432 with 1 Axes>"
      ]
     },
     "metadata": {
      "needs_background": "light"
     },
     "output_type": "display_data"
    }
   ],
   "source": [
    "plt.figure(figsize=(10,6))\n",
    "plt.plot(apple_testing_processed, color='blue', label='actual apple stock price')\n",
    "plt.plot(predictions, color='red', label='predicted appled stock price')\n",
    "plt.title('apple stock price prediction')\n",
    "plt.xlabel('Date')\n",
    "plt.ylabel('open price')\n",
    "plt.legend()\n",
    "plt.show()"
   ]
  },
  {
   "cell_type": "code",
   "execution_count": null,
   "metadata": {},
   "outputs": [],
   "source": []
  }
 ],
 "metadata": {
  "kernelspec": {
   "display_name": "Python 3",
   "language": "python",
   "name": "python3"
  },
  "language_info": {
   "codemirror_mode": {
    "name": "ipython",
    "version": 3
   },
   "file_extension": ".py",
   "mimetype": "text/x-python",
   "name": "python",
   "nbconvert_exporter": "python",
   "pygments_lexer": "ipython3",
   "version": "3.6.8"
  }
 },
 "nbformat": 4,
 "nbformat_minor": 2
}
