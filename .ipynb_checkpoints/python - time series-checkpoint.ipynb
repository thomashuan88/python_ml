{
 "cells": [
  {
   "cell_type": "code",
   "execution_count": 2,
   "metadata": {},
   "outputs": [
    {
     "data": {
      "text/plain": [
       "'d:\\\\dev\\\\python_ml'"
      ]
     },
     "execution_count": 2,
     "metadata": {},
     "output_type": "execute_result"
    }
   ],
   "source": [
    "%pwd\n",
    "# https://stackabuse.com/time-series-analysis-with-lstm-using-pythons-keras-library/\n",
    "# https://towardsdatascience.com/time-series-in-python-exponential-smoothing-and-arima-processes-2c67f2a52788\n",
    "# https://towardsdatascience.com/time-series-in-python-part-2-dealing-with-seasonal-data-397a65b74051\n",
    "# https://towardsdatascience.com/time-series-in-python-part-3-forecasting-taxi-trips-with-lstms-277afd4f811"
   ]
  },
  {
   "cell_type": "code",
   "execution_count": 4,
   "metadata": {},
   "outputs": [
    {
     "name": "stdout",
     "output_type": "stream",
     "text": [
      "         Date      Open      High       Low     Close  Adj Close     Volume\n",
      "0  2000-05-22  3.348214  3.348214  3.071429  3.212054   2.133590  188876800\n",
      "1  2000-05-23  3.232143  3.334821  3.058036  3.064732   2.035733  129396400\n",
      "2  2000-05-24  3.078125  3.205357  2.964286  3.131696   2.080215  169615600\n",
      "3  2000-05-25  3.160714  3.309150  3.071429  3.116629   2.070205  101687600\n",
      "4  2000-05-26  3.142857  3.209821  3.044643  3.084821   2.049076   45287200\n",
      "(4778, 7)\n"
     ]
    }
   ],
   "source": [
    "import pandas as pd\n",
    "appl_data = pd.read_csv(\"./AAPL.csv\")\n",
    "print(appl_data.head())\n",
    "print(appl_data.shape)"
   ]
  },
  {
   "cell_type": "code",
   "execution_count": 5,
   "metadata": {},
   "outputs": [
    {
     "data": {
      "text/plain": [
       "Date          object\n",
       "Open         float64\n",
       "High         float64\n",
       "Low          float64\n",
       "Close        float64\n",
       "Adj Close    float64\n",
       "Volume         int64\n",
       "dtype: object"
      ]
     },
     "execution_count": 5,
     "metadata": {},
     "output_type": "execute_result"
    }
   ],
   "source": [
    "appl_data.dtypes"
   ]
  },
  {
   "cell_type": "code",
   "execution_count": 34,
   "metadata": {},
   "outputs": [],
   "source": [
    "import datetime\n",
    "import requests\n",
    "from bokeh.plotting import figure, show, output_file"
   ]
  },
  {
   "cell_type": "code",
   "execution_count": 35,
   "metadata": {},
   "outputs": [],
   "source": [
    "appl_data['Date'] = pd.to_datetime(appl_data['Date'])"
   ]
  },
  {
   "cell_type": "code",
   "execution_count": 36,
   "metadata": {},
   "outputs": [],
   "source": [
    "appl_data = appl_data.sort_values(by=['Date'])\n",
    "df = appl_data\n"
   ]
  },
  {
   "cell_type": "code",
   "execution_count": 41,
   "metadata": {},
   "outputs": [],
   "source": [
    "from math import pi\n",
    "\n",
    "inc = df.Close > df.Open\n",
    "dec = df.Open > df.Close\n",
    "w = 12*60*60*1000\n",
    "TOOLS = \"pan,wheel_zoom,box_zoom,reset,save\"\n",
    "\n",
    "title = 'AAPL' + ' chart'\n",
    "p = figure(x_axis_type=\"datetime\", tools=TOOLS, plot_width=1000, title=title)\n",
    "p.xaxis.major_label_orientation = pi/4\n",
    "p.grid.grid_line_alpha=0.3\n",
    "\n",
    "p.segment(df.Date, df.High, df.Date, df.Low, color=\"black\")\n",
    "p.vbar(df.Date[inc], w, df.Open[inc], df.Close[inc], fill_color=\"#D5E1DD\", line_color=\"black\")\n",
    "p.vbar(df.Date[dec], w, df.Open[dec], df.Close[dec], fill_color=\"#F2583E\", line_color=\"black\")\n",
    "\n",
    "#Store as a HTML file\n",
    "output_file(\"stock_information.html\", title=\"candlestick example\")\n",
    "\n",
    "show(p)"
   ]
  },
  {
   "cell_type": "code",
   "execution_count": 26,
   "metadata": {},
   "outputs": [
    {
     "data": {
      "text/plain": [
       "0       False\n",
       "1       False\n",
       "2        True\n",
       "3       False\n",
       "4       False\n",
       "5       False\n",
       "6       False\n",
       "7        True\n",
       "8       False\n",
       "9       False\n",
       "10       True\n",
       "11       True\n",
       "12      False\n",
       "13      False\n",
       "14      False\n",
       "15       True\n",
       "16      False\n",
       "17       True\n",
       "18      False\n",
       "19       True\n",
       "20       True\n",
       "21       True\n",
       "22      False\n",
       "23      False\n",
       "24       True\n",
       "25      False\n",
       "26       True\n",
       "27      False\n",
       "28      False\n",
       "29       True\n",
       "        ...  \n",
       "4748     True\n",
       "4749    False\n",
       "4750     True\n",
       "4751    False\n",
       "4752    False\n",
       "4753     True\n",
       "4754    False\n",
       "4755     True\n",
       "4756     True\n",
       "4757     True\n",
       "4758     True\n",
       "4759    False\n",
       "4760    False\n",
       "4761    False\n",
       "4762     True\n",
       "4763    False\n",
       "4764     True\n",
       "4765    False\n",
       "4766     True\n",
       "4767     True\n",
       "4768    False\n",
       "4769     True\n",
       "4770     True\n",
       "4771    False\n",
       "4772    False\n",
       "4773     True\n",
       "4774     True\n",
       "4775     True\n",
       "4776     True\n",
       "4777    False\n",
       "Length: 4778, dtype: bool"
      ]
     },
     "execution_count": 26,
     "metadata": {},
     "output_type": "execute_result"
    }
   ],
   "source": []
  },
  {
   "cell_type": "code",
   "execution_count": 46,
   "metadata": {},
   "outputs": [
    {
     "name": "stdout",
     "output_type": "stream",
     "text": [
      "         Date      Open      High       Low     Close  Adj Close     Volume\n",
      "0  2000-05-22  3.348214  3.348214  3.071429  3.212054   2.133590  188876800\n",
      "1  2000-05-23  3.232143  3.334821  3.058036  3.064732   2.035733  129396400\n",
      "2  2000-05-24  3.078125  3.205357  2.964286  3.131696   2.080215  169615600\n",
      "3  2000-05-25  3.160714  3.309150  3.071429  3.116629   2.070205  101687600\n",
      "4  2000-05-26  3.142857  3.209821  3.044643  3.084821   2.049076   45287200\n",
      "(4778, 7)\n"
     ]
    },
    {
     "data": {
      "text/plain": [
       "array([[  3.348214],\n",
       "       [  3.232143],\n",
       "       [  3.078125],\n",
       "       ...,\n",
       "       [189.910004],\n",
       "       [186.929993],\n",
       "       [183.520004]])"
      ]
     },
     "execution_count": 46,
     "metadata": {},
     "output_type": "execute_result"
    }
   ],
   "source": [
    "import numpy as np\n",
    "import matplotlib.pyplot as plt\n",
    "import pandas as pd\n",
    "appl_data = pd.read_csv(\"./appl_train.csv\")\n",
    "print(appl_data.head())\n",
    "print(appl_data.shape)\n",
    "\n",
    "df = appl_data\n",
    "df_training_processed = df.iloc[:, 1:2].values\n",
    "\n",
    "df_training_processed"
   ]
  },
  {
   "cell_type": "code",
   "execution_count": 39,
   "metadata": {},
   "outputs": [],
   "source": [
    "# Data Normalization\n",
    "# As a rule of thumb, whenever you use a neural network, you should normalize or scale your data. \n",
    "# We will use MinMaxScaler class from the sklear.preprocessing library to scale our data between 0 and 1. \n",
    "# The feature_range parameter is used to specify the range of the scaled data. Execute the following script:\n",
    "\n",
    "from sklearn.preprocessing import MinMaxScaler\n",
    "scaler = MinMaxScaler(feature_range = (0,1))\n",
    "\n",
    "df_training_scaled = scaler.fit_transform(df_training_processed)"
   ]
  },
  {
   "cell_type": "code",
   "execution_count": 40,
   "metadata": {},
   "outputs": [
    {
     "name": "stdout",
     "output_type": "stream",
     "text": [
      "0.011928477046779053\n",
      "[0.01053006 0.01002508 0.00935501 0.00971432]\n",
      "[0.01053006 0.0109962  0.01192848 ... 0.02048211 0.02051319 0.02078665]\n"
     ]
    }
   ],
   "source": [
    "features_set = []\n",
    "labels = []\n",
    "for i in range(60, 1260):\n",
    "    features_set.append(df_training_scaled[i-60:i, 0])\n",
    "    labels.append(df_training_scaled[i, 0])\n",
    "    \n",
    "features_set, labels = np.array(features_set), np.array(labels)\n",
    "\n",
    "print(df_training_scaled[62,0])\n",
    "print(df_training_scaled[0:4, 0])\n",
    "print(labels)"
   ]
  },
  {
   "cell_type": "code",
   "execution_count": 41,
   "metadata": {},
   "outputs": [],
   "source": [
    "features_set = np.reshape(features_set, (features_set.shape[0], features_set.shape[1], 1))"
   ]
  },
  {
   "cell_type": "code",
   "execution_count": 42,
   "metadata": {},
   "outputs": [
    {
     "name": "stderr",
     "output_type": "stream",
     "text": [
      "Using TensorFlow backend.\n"
     ]
    }
   ],
   "source": [
    "from keras.models import Sequential\n",
    "from keras.layers import Dense\n",
    "from keras.layers import LSTM\n",
    "from keras.layers import Dropout"
   ]
  },
  {
   "cell_type": "code",
   "execution_count": 43,
   "metadata": {},
   "outputs": [
    {
     "name": "stdout",
     "output_type": "stream",
     "text": [
      "Epoch 1/100\n",
      "1200/1200 [==============================] - 12s 10ms/step - loss: 5.7074e-05\n",
      "Epoch 2/100\n",
      "1200/1200 [==============================] - 3s 3ms/step - loss: 1.8705e-05\n",
      "Epoch 3/100\n",
      "1200/1200 [==============================] - 3s 3ms/step - loss: 4.9197e-06\n",
      "Epoch 4/100\n",
      "1200/1200 [==============================] - 3s 3ms/step - loss: 3.3896e-06A: 0s - loss: 3.2138\n",
      "Epoch 5/100\n",
      "1200/1200 [==============================] - 3s 3ms/step - loss: 3.7516e-06\n",
      "Epoch 6/100\n",
      "1200/1200 [==============================] - 3s 3ms/step - loss: 4.0611e-06A: 0s - loss: 4.1\n",
      "Epoch 7/100\n",
      "1200/1200 [==============================] - 3s 3ms/step - loss: 3.3153e-06\n",
      "Epoch 8/100\n",
      "1200/1200 [==============================] - 3s 3ms/step - loss: 3.4129e-06\n",
      "Epoch 9/100\n",
      "1200/1200 [==============================] - 3s 3ms/step - loss: 4.4904e-06\n",
      "Epoch 10/100\n",
      "1200/1200 [==============================] - 3s 3ms/step - loss: 3.0167e-06\n",
      "Epoch 11/100\n",
      "1200/1200 [==============================] - 3s 3ms/step - loss: 2.7069e-06A: 0s - loss:\n",
      "Epoch 12/100\n",
      "1200/1200 [==============================] - 3s 3ms/step - loss: 2.6864e-06\n",
      "Epoch 13/100\n",
      "1200/1200 [==============================] - 3s 3ms/step - loss: 2.4593e-06\n",
      "Epoch 14/100\n",
      "1200/1200 [==============================] - 3s 3ms/step - loss: 2.1338e-06\n",
      "Epoch 15/100\n",
      "1200/1200 [==============================] - 3s 3ms/step - loss: 2.5291e-06\n",
      "Epoch 16/100\n",
      "1200/1200 [==============================] - 3s 3ms/step - loss: 2.4385e-06\n",
      "Epoch 17/100\n",
      "1200/1200 [==============================] - 3s 3ms/step - loss: 2.6577e-06\n",
      "Epoch 18/100\n",
      "1200/1200 [==============================] - 3s 3ms/step - loss: 2.7253e-06\n",
      "Epoch 19/100\n",
      "1200/1200 [==============================] - 3s 3ms/step - loss: 2.2015e-06\n",
      "Epoch 20/100\n",
      "1200/1200 [==============================] - 3s 3ms/step - loss: 4.2557e-06\n",
      "Epoch 21/100\n",
      "1200/1200 [==============================] - 3s 3ms/step - loss: 2.5049e-06\n",
      "Epoch 22/100\n",
      "1200/1200 [==============================] - 3s 3ms/step - loss: 2.1333e-06\n",
      "Epoch 23/100\n",
      "1200/1200 [==============================] - 3s 3ms/step - loss: 1.9704e-06\n",
      "Epoch 24/100\n",
      "1200/1200 [==============================] - 3s 3ms/step - loss: 1.8535e-06\n",
      "Epoch 25/100\n",
      "1200/1200 [==============================] - 3s 3ms/step - loss: 2.1400e-06\n",
      "Epoch 26/100\n",
      "1200/1200 [==============================] - 3s 3ms/step - loss: 1.7028e-06\n",
      "Epoch 27/100\n",
      "1200/1200 [==============================] - 3s 3ms/step - loss: 2.0733e-06\n",
      "Epoch 28/100\n",
      "1200/1200 [==============================] - 3s 3ms/step - loss: 1.9284e-06\n",
      "Epoch 29/100\n",
      "1200/1200 [==============================] - 3s 3ms/step - loss: 2.1620e-06\n",
      "Epoch 30/100\n",
      "1200/1200 [==============================] - 3s 3ms/step - loss: 1.9435e-06\n",
      "Epoch 31/100\n",
      "1200/1200 [==============================] - 3s 3ms/step - loss: 2.1619e-06\n",
      "Epoch 32/100\n",
      "1200/1200 [==============================] - 3s 3ms/step - loss: 2.9352e-06\n",
      "Epoch 33/100\n",
      "1200/1200 [==============================] - 3s 3ms/step - loss: 1.8364e-06\n",
      "Epoch 34/100\n",
      "1200/1200 [==============================] - 3s 3ms/step - loss: 1.7842e-06\n",
      "Epoch 35/100\n",
      "1200/1200 [==============================] - 3s 3ms/step - loss: 1.8732e-06\n",
      "Epoch 36/100\n",
      "1200/1200 [==============================] - 3s 3ms/step - loss: 1.9738e-06\n",
      "Epoch 37/100\n",
      "1200/1200 [==============================] - 3s 3ms/step - loss: 1.2931e-06\n",
      "Epoch 38/100\n",
      "1200/1200 [==============================] - 3s 3ms/step - loss: 1.8781e-06A\n",
      "Epoch 39/100\n",
      "1200/1200 [==============================] - 3s 3ms/step - loss: 1.5541e-06\n",
      "Epoch 40/100\n",
      "1200/1200 [==============================] - 3s 3ms/step - loss: 1.3698e-06\n",
      "Epoch 41/100\n",
      "1200/1200 [==============================] - 3s 3ms/step - loss: 1.5747e-06\n",
      "Epoch 42/100\n",
      "1200/1200 [==============================] - 3s 3ms/step - loss: 1.6798e-06A: 1s - l\n",
      "Epoch 43/100\n",
      "1200/1200 [==============================] - 3s 3ms/step - loss: 1.2389e-06\n",
      "Epoch 44/100\n",
      "1200/1200 [==============================] - 3s 3ms/step - loss: 1.4740e-06\n",
      "Epoch 45/100\n",
      "1200/1200 [==============================] - 3s 3ms/step - loss: 1.7946e-06\n",
      "Epoch 46/100\n",
      "1200/1200 [==============================] - 3s 3ms/step - loss: 1.9535e-06\n",
      "Epoch 47/100\n",
      "1200/1200 [==============================] - 3s 3ms/step - loss: 1.2956e-06\n",
      "Epoch 48/100\n",
      "1200/1200 [==============================] - 3s 3ms/step - loss: 1.4260e-06\n",
      "Epoch 49/100\n",
      "1200/1200 [==============================] - 3s 3ms/step - loss: 1.8390e-06\n",
      "Epoch 50/100\n",
      "1200/1200 [==============================] - 3s 3ms/step - loss: 1.8959e-06\n",
      "Epoch 51/100\n",
      "1200/1200 [==============================] - 3s 3ms/step - loss: 1.5526e-06A: 2s - loss: 1 - ETA: 1s - lo\n",
      "Epoch 52/100\n",
      "1200/1200 [==============================] - 3s 3ms/step - loss: 1.6117e-06\n",
      "Epoch 53/100\n",
      "1200/1200 [==============================] - 3s 3ms/step - loss: 1.4449e-06\n",
      "Epoch 54/100\n",
      "1200/1200 [==============================] - 4s 3ms/step - loss: 1.5625e-06A: 0s - loss: \n",
      "Epoch 55/100\n",
      "1200/1200 [==============================] - 3s 3ms/step - loss: 3.6172e-06A: 1s - lo\n",
      "Epoch 56/100\n",
      "1200/1200 [==============================] - 3s 3ms/step - loss: 1.8646e-06\n",
      "Epoch 57/100\n",
      "1200/1200 [==============================] - 3s 3ms/step - loss: 1.2829e-06\n",
      "Epoch 58/100\n",
      "1200/1200 [==============================] - 3s 3ms/step - loss: 1.7331e-06\n",
      "Epoch 59/100\n",
      "1200/1200 [==============================] - 3s 3ms/step - loss: 1.6445e-06\n",
      "Epoch 60/100\n",
      "1200/1200 [==============================] - 3s 3ms/step - loss: 1.6851e-06\n",
      "Epoch 61/100\n",
      "1200/1200 [==============================] - 3s 3ms/step - loss: 1.3406e-06\n",
      "Epoch 62/100\n",
      "1200/1200 [==============================] - 3s 3ms/step - loss: 1.4293e-06\n",
      "Epoch 63/100\n",
      "1200/1200 [==============================] - 4s 3ms/step - loss: 1.4810e-06\n",
      "Epoch 64/100\n",
      "1200/1200 [==============================] - 4s 3ms/step - loss: 1.4381e-06\n",
      "Epoch 65/100\n",
      "1200/1200 [==============================] - 4s 3ms/step - loss: 1.2802e-06\n",
      "Epoch 66/100\n",
      "1200/1200 [==============================] - 3s 3ms/step - loss: 1.4265e-06\n",
      "Epoch 67/100\n",
      "1200/1200 [==============================] - 3s 3ms/step - loss: 1.3089e-06\n",
      "Epoch 68/100\n",
      "1200/1200 [==============================] - 3s 3ms/step - loss: 1.6956e-06\n",
      "Epoch 69/100\n",
      "1200/1200 [==============================] - 3s 3ms/step - loss: 1.1710e-06\n",
      "Epoch 70/100\n",
      "1200/1200 [==============================] - 3s 3ms/step - loss: 1.6664e-06\n",
      "Epoch 71/100\n",
      "1200/1200 [==============================] - 3s 3ms/step - loss: 1.4130e-06\n",
      "Epoch 72/100\n",
      "1200/1200 [==============================] - 3s 3ms/step - loss: 1.1659e-06\n",
      "Epoch 73/100\n",
      "1200/1200 [==============================] - 4s 3ms/step - loss: 1.3550e-06\n",
      "Epoch 74/100\n",
      "1200/1200 [==============================] - 4s 3ms/step - loss: 1.8111e-06A: 0s - loss: 1.8\n",
      "Epoch 75/100\n",
      "1200/1200 [==============================] - 3s 3ms/step - loss: 1.8555e-06\n",
      "Epoch 76/100\n",
      "1200/1200 [==============================] - 4s 3ms/step - loss: 1.3327e-06\n",
      "Epoch 77/100\n",
      "1200/1200 [==============================] - 3s 3ms/step - loss: 1.4445e-06\n",
      "Epoch 78/100\n",
      "1200/1200 [==============================] - 3s 3ms/step - loss: 1.4051e-06\n",
      "Epoch 79/100\n",
      "1200/1200 [==============================] - 3s 3ms/step - loss: 1.1174e-06\n",
      "Epoch 80/100\n",
      "1200/1200 [==============================] - 3s 3ms/step - loss: 1.2257e-06\n",
      "Epoch 81/100\n",
      "1200/1200 [==============================] - 3s 3ms/step - loss: 1.1853e-06\n",
      "Epoch 82/100\n",
      "1200/1200 [==============================] - 3s 3ms/step - loss: 1.5028e-06\n",
      "Epoch 83/100\n",
      "1200/1200 [==============================] - 3s 3ms/step - loss: 2.0891e-06\n",
      "Epoch 84/100\n",
      "1200/1200 [==============================] - 3s 3ms/step - loss: 1.1911e-06\n",
      "Epoch 85/100\n",
      "1200/1200 [==============================] - 3s 3ms/step - loss: 1.7549e-06\n",
      "Epoch 86/100\n",
      "1200/1200 [==============================] - 3s 3ms/step - loss: 1.5865e-06\n",
      "Epoch 87/100\n",
      "1200/1200 [==============================] - 3s 3ms/step - loss: 1.4010e-06\n",
      "Epoch 88/100\n",
      "1200/1200 [==============================] - 3s 3ms/step - loss: 1.2676e-06\n",
      "Epoch 89/100\n",
      "1200/1200 [==============================] - 4s 3ms/step - loss: 1.2949e-06\n",
      "Epoch 90/100\n",
      "1200/1200 [==============================] - 3s 3ms/step - loss: 1.3270e-06\n",
      "Epoch 91/100\n"
     ]
    },
    {
     "name": "stdout",
     "output_type": "stream",
     "text": [
      "1200/1200 [==============================] - 3s 3ms/step - loss: 1.1734e-06\n",
      "Epoch 92/100\n",
      "1200/1200 [==============================] - 3s 3ms/step - loss: 1.0706e-06\n",
      "Epoch 93/100\n",
      "1200/1200 [==============================] - 3s 3ms/step - loss: 1.2099e-06\n",
      "Epoch 94/100\n",
      "1200/1200 [==============================] - 3s 3ms/step - loss: 1.0835e-06\n",
      "Epoch 95/100\n",
      "1200/1200 [==============================] - 3s 3ms/step - loss: 1.0467e-06\n",
      "Epoch 96/100\n",
      "1200/1200 [==============================] - 3s 3ms/step - loss: 1.2865e-06\n",
      "Epoch 97/100\n",
      "1200/1200 [==============================] - 3s 3ms/step - loss: 1.2074e-06\n",
      "Epoch 98/100\n",
      "1200/1200 [==============================] - 3s 3ms/step - loss: 1.3191e-06A: 0s - loss: \n",
      "Epoch 99/100\n",
      "1200/1200 [==============================] - 3s 3ms/step - loss: 1.3397e-06\n",
      "Epoch 100/100\n",
      "1200/1200 [==============================] - 3s 3ms/step - loss: 1.2794e-06\n"
     ]
    },
    {
     "data": {
      "text/plain": [
       "<keras.callbacks.History at 0x1a7cbdfac18>"
      ]
     },
     "execution_count": 43,
     "metadata": {},
     "output_type": "execute_result"
    }
   ],
   "source": [
    "model = Sequential()\n",
    "model.add(LSTM(units=50, return_sequences=True, input_shape=(features_set.shape[1], 1)))\n",
    "model.add(Dropout(0.2))\n",
    "\n",
    "model.add(LSTM(units=50, return_sequences=True))\n",
    "model.add(Dropout(0.2))\n",
    "\n",
    "model.add(LSTM(units=50, return_sequences=True))\n",
    "model.add(Dropout(0.2))\n",
    "\n",
    "model.add(LSTM(units=50))\n",
    "model.add(Dropout(0.2))\n",
    "\n",
    "model.add(Dense(units=1))\n",
    "\n",
    "model.compile(optimizer='adam', loss='mean_squared_error')\n",
    "\n",
    "model.fit(features_set, labels, epochs = 100, batch_size = 32)"
   ]
  },
  {
   "cell_type": "code",
   "execution_count": null,
   "metadata": {},
   "outputs": [],
   "source": [
    "apple_testing_com"
   ]
  }
 ],
 "metadata": {
  "kernelspec": {
   "display_name": "Python 3",
   "language": "python",
   "name": "python3"
  },
  "language_info": {
   "codemirror_mode": {
    "name": "ipython",
    "version": 3
   },
   "file_extension": ".py",
   "mimetype": "text/x-python",
   "name": "python",
   "nbconvert_exporter": "python",
   "pygments_lexer": "ipython3",
   "version": "3.6.8"
  }
 },
 "nbformat": 4,
 "nbformat_minor": 2
}
