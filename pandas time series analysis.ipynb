{
 "cells": [
  {
   "cell_type": "code",
   "execution_count": 6,
   "metadata": {},
   "outputs": [
    {
     "data": {
      "text/html": [
       "<div>\n",
       "<style scoped>\n",
       "    .dataframe tbody tr th:only-of-type {\n",
       "        vertical-align: middle;\n",
       "    }\n",
       "\n",
       "    .dataframe tbody tr th {\n",
       "        vertical-align: top;\n",
       "    }\n",
       "\n",
       "    .dataframe thead th {\n",
       "        text-align: right;\n",
       "    }\n",
       "</style>\n",
       "<table border=\"1\" class=\"dataframe\">\n",
       "  <thead>\n",
       "    <tr style=\"text-align: right;\">\n",
       "      <th></th>\n",
       "      <th>Open</th>\n",
       "      <th>High</th>\n",
       "      <th>Low</th>\n",
       "      <th>Close</th>\n",
       "      <th>Adj Close</th>\n",
       "      <th>Volume</th>\n",
       "    </tr>\n",
       "    <tr>\n",
       "      <th>Date</th>\n",
       "      <th></th>\n",
       "      <th></th>\n",
       "      <th></th>\n",
       "      <th></th>\n",
       "      <th></th>\n",
       "      <th></th>\n",
       "    </tr>\n",
       "  </thead>\n",
       "  <tbody>\n",
       "    <tr>\n",
       "      <th>2000-05-22</th>\n",
       "      <td>3.348214</td>\n",
       "      <td>3.348214</td>\n",
       "      <td>3.071429</td>\n",
       "      <td>3.212054</td>\n",
       "      <td>2.133590</td>\n",
       "      <td>188876800</td>\n",
       "    </tr>\n",
       "    <tr>\n",
       "      <th>2000-05-23</th>\n",
       "      <td>3.232143</td>\n",
       "      <td>3.334821</td>\n",
       "      <td>3.058036</td>\n",
       "      <td>3.064732</td>\n",
       "      <td>2.035733</td>\n",
       "      <td>129396400</td>\n",
       "    </tr>\n",
       "    <tr>\n",
       "      <th>2000-05-24</th>\n",
       "      <td>3.078125</td>\n",
       "      <td>3.205357</td>\n",
       "      <td>2.964286</td>\n",
       "      <td>3.131696</td>\n",
       "      <td>2.080215</td>\n",
       "      <td>169615600</td>\n",
       "    </tr>\n",
       "    <tr>\n",
       "      <th>2000-05-25</th>\n",
       "      <td>3.160714</td>\n",
       "      <td>3.309150</td>\n",
       "      <td>3.071429</td>\n",
       "      <td>3.116629</td>\n",
       "      <td>2.070205</td>\n",
       "      <td>101687600</td>\n",
       "    </tr>\n",
       "    <tr>\n",
       "      <th>2000-05-26</th>\n",
       "      <td>3.142857</td>\n",
       "      <td>3.209821</td>\n",
       "      <td>3.044643</td>\n",
       "      <td>3.084821</td>\n",
       "      <td>2.049076</td>\n",
       "      <td>45287200</td>\n",
       "    </tr>\n",
       "  </tbody>\n",
       "</table>\n",
       "</div>"
      ],
      "text/plain": [
       "                Open      High       Low     Close  Adj Close     Volume\n",
       "Date                                                                    \n",
       "2000-05-22  3.348214  3.348214  3.071429  3.212054   2.133590  188876800\n",
       "2000-05-23  3.232143  3.334821  3.058036  3.064732   2.035733  129396400\n",
       "2000-05-24  3.078125  3.205357  2.964286  3.131696   2.080215  169615600\n",
       "2000-05-25  3.160714  3.309150  3.071429  3.116629   2.070205  101687600\n",
       "2000-05-26  3.142857  3.209821  3.044643  3.084821   2.049076   45287200"
      ]
     },
     "execution_count": 6,
     "metadata": {},
     "output_type": "execute_result"
    }
   ],
   "source": [
    "import pandas as pd\n",
    "\n",
    "\n",
    "df = pd.read_csv(\"./AAPL.csv\", parse_dates=[\"Date\"], index_col=\"Date\")\n",
    "df.head(5)"
   ]
  },
  {
   "cell_type": "code",
   "execution_count": 9,
   "metadata": {},
   "outputs": [],
   "source": [
    "# type(df.Date[0]) -- date already become index"
   ]
  },
  {
   "cell_type": "code",
   "execution_count": 7,
   "metadata": {},
   "outputs": [
    {
     "data": {
      "text/plain": [
       "DatetimeIndex(['2000-05-22', '2000-05-23', '2000-05-24', '2000-05-25',\n",
       "               '2000-05-26', '2000-05-30', '2000-05-31', '2000-06-01',\n",
       "               '2000-06-02', '2000-06-05',\n",
       "               ...\n",
       "               '2019-05-07', '2019-05-08', '2019-05-09', '2019-05-10',\n",
       "               '2019-05-13', '2019-05-14', '2019-05-15', '2019-05-16',\n",
       "               '2019-05-17', '2019-05-20'],\n",
       "              dtype='datetime64[ns]', name='Date', length=4778, freq=None)"
      ]
     },
     "execution_count": 7,
     "metadata": {},
     "output_type": "execute_result"
    }
   ],
   "source": [
    "df.index"
   ]
  },
  {
   "cell_type": "code",
   "execution_count": 14,
   "metadata": {},
   "outputs": [
    {
     "data": {
      "text/plain": [
       "119.56999975000001"
      ]
     },
     "execution_count": 14,
     "metadata": {},
     "output_type": "execute_result"
    }
   ],
   "source": [
    "df[\"2017-01\"].Close.mean()"
   ]
  },
  {
   "cell_type": "code",
   "execution_count": 28,
   "metadata": {},
   "outputs": [
    {
     "data": {
      "text/plain": [
       "Open         20\n",
       "High         20\n",
       "Low          20\n",
       "Close        20\n",
       "Adj Close    20\n",
       "Volume       20\n",
       "dtype: int64"
      ]
     },
     "execution_count": 28,
     "metadata": {},
     "output_type": "execute_result"
    }
   ],
   "source": [
    "df[\"2017-01\"].count()"
   ]
  },
  {
   "cell_type": "code",
   "execution_count": 29,
   "metadata": {},
   "outputs": [
    {
     "data": {
      "text/html": [
       "<div>\n",
       "<style scoped>\n",
       "    .dataframe tbody tr th:only-of-type {\n",
       "        vertical-align: middle;\n",
       "    }\n",
       "\n",
       "    .dataframe tbody tr th {\n",
       "        vertical-align: top;\n",
       "    }\n",
       "\n",
       "    .dataframe thead th {\n",
       "        text-align: right;\n",
       "    }\n",
       "</style>\n",
       "<table border=\"1\" class=\"dataframe\">\n",
       "  <thead>\n",
       "    <tr style=\"text-align: right;\">\n",
       "      <th></th>\n",
       "      <th>Open</th>\n",
       "      <th>High</th>\n",
       "      <th>Low</th>\n",
       "      <th>Close</th>\n",
       "      <th>Adj Close</th>\n",
       "      <th>Volume</th>\n",
       "    </tr>\n",
       "    <tr>\n",
       "      <th>Date</th>\n",
       "      <th></th>\n",
       "      <th></th>\n",
       "      <th></th>\n",
       "      <th></th>\n",
       "      <th></th>\n",
       "      <th></th>\n",
       "    </tr>\n",
       "  </thead>\n",
       "  <tbody>\n",
       "    <tr>\n",
       "      <th>2017-01-03</th>\n",
       "      <td>115.800003</td>\n",
       "      <td>116.330002</td>\n",
       "      <td>114.760002</td>\n",
       "      <td>116.150002</td>\n",
       "      <td>111.709831</td>\n",
       "      <td>28781900</td>\n",
       "    </tr>\n",
       "    <tr>\n",
       "      <th>2017-01-04</th>\n",
       "      <td>115.849998</td>\n",
       "      <td>116.510002</td>\n",
       "      <td>115.750000</td>\n",
       "      <td>116.019997</td>\n",
       "      <td>111.584778</td>\n",
       "      <td>21118100</td>\n",
       "    </tr>\n",
       "    <tr>\n",
       "      <th>2017-01-05</th>\n",
       "      <td>115.919998</td>\n",
       "      <td>116.860001</td>\n",
       "      <td>115.809998</td>\n",
       "      <td>116.610001</td>\n",
       "      <td>112.152229</td>\n",
       "      <td>22193600</td>\n",
       "    </tr>\n",
       "    <tr>\n",
       "      <th>2017-01-06</th>\n",
       "      <td>116.779999</td>\n",
       "      <td>118.160004</td>\n",
       "      <td>116.470001</td>\n",
       "      <td>117.910004</td>\n",
       "      <td>113.402542</td>\n",
       "      <td>31751900</td>\n",
       "    </tr>\n",
       "  </tbody>\n",
       "</table>\n",
       "</div>"
      ],
      "text/plain": [
       "                  Open        High         Low       Close   Adj Close  \\\n",
       "Date                                                                     \n",
       "2017-01-03  115.800003  116.330002  114.760002  116.150002  111.709831   \n",
       "2017-01-04  115.849998  116.510002  115.750000  116.019997  111.584778   \n",
       "2017-01-05  115.919998  116.860001  115.809998  116.610001  112.152229   \n",
       "2017-01-06  116.779999  118.160004  116.470001  117.910004  113.402542   \n",
       "\n",
       "              Volume  \n",
       "Date                  \n",
       "2017-01-03  28781900  \n",
       "2017-01-04  21118100  \n",
       "2017-01-05  22193600  \n",
       "2017-01-06  31751900  "
      ]
     },
     "execution_count": 29,
     "metadata": {},
     "output_type": "execute_result"
    }
   ],
   "source": [
    "df[\"2017-01-01\":\"2017-01-07\"]"
   ]
  },
  {
   "cell_type": "code",
   "execution_count": 33,
   "metadata": {},
   "outputs": [
    {
     "data": {
      "text/plain": [
       "<matplotlib.axes._subplots.AxesSubplot at 0x2b982e044e0>"
      ]
     },
     "execution_count": 33,
     "metadata": {},
     "output_type": "execute_result"
    },
    {
     "data": {
      "image/png": "[encoded data removed]",
      "text/plain": [
       "<Figure size 432x288 with 1 Axes>"
      ]
     },
     "metadata": {
      "needs_background": "light"
     },
     "output_type": "display_data"
    }
   ],
   "source": [
    "%matplotlib inline\n",
    "df.Close.resample('M').mean().plot()"
   ]
  },
  {
   "cell_type": "code",
   "execution_count": 34,
   "metadata": {},
   "outputs": [
    {
     "data": {
      "text/plain": [
       "<matplotlib.axes._subplots.AxesSubplot at 0x2b982e91710>"
      ]
     },
     "execution_count": 34,
     "metadata": {},
     "output_type": "execute_result"
    },
    {
     "data": {
      "image/png": "[encoded data removed]",
      "text/plain": [
       "<Figure size 432x288 with 1 Axes>"
      ]
     },
     "metadata": {
      "needs_background": "light"
     },
     "output_type": "display_data"
    }
   ],
   "source": [
    "df.Close.resample('W').mean().plot()"
   ]
  },
  {
   "cell_type": "code",
   "execution_count": 35,
   "metadata": {},
   "outputs": [
    {
     "data": {
      "text/plain": [
       "<matplotlib.axes._subplots.AxesSubplot at 0x2b983f19278>"
      ]
     },
     "execution_count": 35,
     "metadata": {},
     "output_type": "execute_result"
    },
    {
     "data": {
      "image/png": "[encoded data removed]",
      "text/plain": [
       "<Figure size 432x288 with 1 Axes>"
      ]
     },
     "metadata": {
      "needs_background": "light"
     },
     "output_type": "display_data"
    }
   ],
   "source": [
    "df.Close.resample('Q').mean().plot()"
   ]
  },
  {
   "cell_type": "code",
   "execution_count": 37,
   "metadata": {},
   "outputs": [
    {
     "data": {
      "text/plain": [
       "<matplotlib.axes._subplots.AxesSubplot at 0x2b9841ea9b0>"
      ]
     },
     "execution_count": 37,
     "metadata": {},
     "output_type": "execute_result"
    },
    {
     "data": {
      "image/png": "[encoded data removed]",
      "text/plain": [
       "<Figure size 432x288 with 1 Axes>"
      ]
     },
     "metadata": {
      "needs_background": "light"
     },
     "output_type": "display_data"
    }
   ],
   "source": [
    "df.Close.resample('Q').mean().plot(kind=\"bar\")"
   ]
  },
  {
   "cell_type": "code",
   "execution_count": 38,
   "metadata": {},
   "outputs": [],
   "source": [
    "no_date = df['2017-01'].copy()"
   ]
  },
  {
   "cell_type": "code",
   "execution_count": 44,
   "metadata": {},
   "outputs": [],
   "source": [
    "no_date = no_date.reset_index()"
   ]
  },
  {
   "cell_type": "code",
   "execution_count": 54,
   "metadata": {},
   "outputs": [],
   "source": [
    "no_date.drop(columns=['Adj Close'], inplace=True)"
   ]
  },
  {
   "cell_type": "code",
   "execution_count": 55,
   "metadata": {},
   "outputs": [
    {
     "data": {
      "text/html": [
       "<div>\n",
       "<style scoped>\n",
       "    .dataframe tbody tr th:only-of-type {\n",
       "        vertical-align: middle;\n",
       "    }\n",
       "\n",
       "    .dataframe tbody tr th {\n",
       "        vertical-align: top;\n",
       "    }\n",
       "\n",
       "    .dataframe thead th {\n",
       "        text-align: right;\n",
       "    }\n",
       "</style>\n",
       "<table border=\"1\" class=\"dataframe\">\n",
       "  <thead>\n",
       "    <tr style=\"text-align: right;\">\n",
       "      <th></th>\n",
       "      <th>Open</th>\n",
       "      <th>High</th>\n",
       "      <th>Low</th>\n",
       "      <th>Close</th>\n",
       "      <th>Volume</th>\n",
       "    </tr>\n",
       "  </thead>\n",
       "  <tbody>\n",
       "    <tr>\n",
       "      <th>0</th>\n",
       "      <td>115.800003</td>\n",
       "      <td>116.330002</td>\n",
       "      <td>114.760002</td>\n",
       "      <td>116.150002</td>\n",
       "      <td>28781900</td>\n",
       "    </tr>\n",
       "    <tr>\n",
       "      <th>1</th>\n",
       "      <td>115.849998</td>\n",
       "      <td>116.510002</td>\n",
       "      <td>115.750000</td>\n",
       "      <td>116.019997</td>\n",
       "      <td>21118100</td>\n",
       "    </tr>\n",
       "    <tr>\n",
       "      <th>2</th>\n",
       "      <td>115.919998</td>\n",
       "      <td>116.860001</td>\n",
       "      <td>115.809998</td>\n",
       "      <td>116.610001</td>\n",
       "      <td>22193600</td>\n",
       "    </tr>\n",
       "    <tr>\n",
       "      <th>3</th>\n",
       "      <td>116.779999</td>\n",
       "      <td>118.160004</td>\n",
       "      <td>116.470001</td>\n",
       "      <td>117.910004</td>\n",
       "      <td>31751900</td>\n",
       "    </tr>\n",
       "    <tr>\n",
       "      <th>4</th>\n",
       "      <td>117.949997</td>\n",
       "      <td>119.430000</td>\n",
       "      <td>117.940002</td>\n",
       "      <td>118.989998</td>\n",
       "      <td>33561900</td>\n",
       "    </tr>\n",
       "    <tr>\n",
       "      <th>5</th>\n",
       "      <td>118.769997</td>\n",
       "      <td>119.379997</td>\n",
       "      <td>118.300003</td>\n",
       "      <td>119.110001</td>\n",
       "      <td>24462100</td>\n",
       "    </tr>\n",
       "    <tr>\n",
       "      <th>6</th>\n",
       "      <td>118.739998</td>\n",
       "      <td>119.930000</td>\n",
       "      <td>118.599998</td>\n",
       "      <td>119.750000</td>\n",
       "      <td>27588600</td>\n",
       "    </tr>\n",
       "    <tr>\n",
       "      <th>7</th>\n",
       "      <td>118.900002</td>\n",
       "      <td>119.300003</td>\n",
       "      <td>118.209999</td>\n",
       "      <td>119.250000</td>\n",
       "      <td>27086200</td>\n",
       "    </tr>\n",
       "    <tr>\n",
       "      <th>8</th>\n",
       "      <td>119.110001</td>\n",
       "      <td>119.620003</td>\n",
       "      <td>118.809998</td>\n",
       "      <td>119.040001</td>\n",
       "      <td>26111900</td>\n",
       "    </tr>\n",
       "    <tr>\n",
       "      <th>9</th>\n",
       "      <td>118.339996</td>\n",
       "      <td>120.239998</td>\n",
       "      <td>118.220001</td>\n",
       "      <td>120.000000</td>\n",
       "      <td>34439800</td>\n",
       "    </tr>\n",
       "    <tr>\n",
       "      <th>10</th>\n",
       "      <td>120.000000</td>\n",
       "      <td>120.500000</td>\n",
       "      <td>119.709999</td>\n",
       "      <td>119.989998</td>\n",
       "      <td>23713000</td>\n",
       "    </tr>\n",
       "    <tr>\n",
       "      <th>11</th>\n",
       "      <td>119.400002</td>\n",
       "      <td>120.089996</td>\n",
       "      <td>119.370003</td>\n",
       "      <td>119.779999</td>\n",
       "      <td>25597300</td>\n",
       "    </tr>\n",
       "    <tr>\n",
       "      <th>12</th>\n",
       "      <td>120.449997</td>\n",
       "      <td>120.449997</td>\n",
       "      <td>119.730003</td>\n",
       "      <td>120.000000</td>\n",
       "      <td>32597900</td>\n",
       "    </tr>\n",
       "    <tr>\n",
       "      <th>13</th>\n",
       "      <td>120.000000</td>\n",
       "      <td>120.809998</td>\n",
       "      <td>119.769997</td>\n",
       "      <td>120.080002</td>\n",
       "      <td>22050200</td>\n",
       "    </tr>\n",
       "    <tr>\n",
       "      <th>14</th>\n",
       "      <td>119.550003</td>\n",
       "      <td>120.099998</td>\n",
       "      <td>119.500000</td>\n",
       "      <td>119.970001</td>\n",
       "      <td>23211000</td>\n",
       "    </tr>\n",
       "    <tr>\n",
       "      <th>15</th>\n",
       "      <td>120.419998</td>\n",
       "      <td>122.099998</td>\n",
       "      <td>120.279999</td>\n",
       "      <td>121.879997</td>\n",
       "      <td>32377600</td>\n",
       "    </tr>\n",
       "    <tr>\n",
       "      <th>16</th>\n",
       "      <td>121.669998</td>\n",
       "      <td>122.440002</td>\n",
       "      <td>121.599998</td>\n",
       "      <td>121.940002</td>\n",
       "      <td>26337600</td>\n",
       "    </tr>\n",
       "    <tr>\n",
       "      <th>17</th>\n",
       "      <td>122.139999</td>\n",
       "      <td>122.349998</td>\n",
       "      <td>121.599998</td>\n",
       "      <td>121.949997</td>\n",
       "      <td>20562900</td>\n",
       "    </tr>\n",
       "    <tr>\n",
       "      <th>18</th>\n",
       "      <td>120.930000</td>\n",
       "      <td>121.629997</td>\n",
       "      <td>120.660004</td>\n",
       "      <td>121.629997</td>\n",
       "      <td>30377500</td>\n",
       "    </tr>\n",
       "    <tr>\n",
       "      <th>19</th>\n",
       "      <td>121.150002</td>\n",
       "      <td>121.389999</td>\n",
       "      <td>120.620003</td>\n",
       "      <td>121.349998</td>\n",
       "      <td>49201000</td>\n",
       "    </tr>\n",
       "  </tbody>\n",
       "</table>\n",
       "</div>"
      ],
      "text/plain": [
       "          Open        High         Low       Close    Volume\n",
       "0   115.800003  116.330002  114.760002  116.150002  28781900\n",
       "1   115.849998  116.510002  115.750000  116.019997  21118100\n",
       "2   115.919998  116.860001  115.809998  116.610001  22193600\n",
       "3   116.779999  118.160004  116.470001  117.910004  31751900\n",
       "4   117.949997  119.430000  117.940002  118.989998  33561900\n",
       "5   118.769997  119.379997  118.300003  119.110001  24462100\n",
       "6   118.739998  119.930000  118.599998  119.750000  27588600\n",
       "7   118.900002  119.300003  118.209999  119.250000  27086200\n",
       "8   119.110001  119.620003  118.809998  119.040001  26111900\n",
       "9   118.339996  120.239998  118.220001  120.000000  34439800\n",
       "10  120.000000  120.500000  119.709999  119.989998  23713000\n",
       "11  119.400002  120.089996  119.370003  119.779999  25597300\n",
       "12  120.449997  120.449997  119.730003  120.000000  32597900\n",
       "13  120.000000  120.809998  119.769997  120.080002  22050200\n",
       "14  119.550003  120.099998  119.500000  119.970001  23211000\n",
       "15  120.419998  122.099998  120.279999  121.879997  32377600\n",
       "16  121.669998  122.440002  121.599998  121.940002  26337600\n",
       "17  122.139999  122.349998  121.599998  121.949997  20562900\n",
       "18  120.930000  121.629997  120.660004  121.629997  30377500\n",
       "19  121.150002  121.389999  120.620003  121.349998  49201000"
      ]
     },
     "execution_count": 55,
     "metadata": {},
     "output_type": "execute_result"
    }
   ],
   "source": [
    "no_date"
   ]
  },
  {
   "cell_type": "code",
   "execution_count": 60,
   "metadata": {},
   "outputs": [],
   "source": [
    "rng = pd.date_range(start=\"7/1/2017\", end=\"7/30/2017\", freq='B') # B is business day"
   ]
  },
  {
   "cell_type": "code",
   "execution_count": 61,
   "metadata": {},
   "outputs": [
    {
     "data": {
      "text/plain": [
       "DatetimeIndex(['2017-07-03', '2017-07-04', '2017-07-05', '2017-07-06',\n",
       "               '2017-07-07', '2017-07-10', '2017-07-11', '2017-07-12',\n",
       "               '2017-07-13', '2017-07-14', '2017-07-17', '2017-07-18',\n",
       "               '2017-07-19', '2017-07-20', '2017-07-21', '2017-07-24',\n",
       "               '2017-07-25', '2017-07-26', '2017-07-27', '2017-07-28'],\n",
       "              dtype='datetime64[ns]', freq='B')"
      ]
     },
     "execution_count": 61,
     "metadata": {},
     "output_type": "execute_result"
    }
   ],
   "source": [
    "rng"
   ]
  },
  {
   "cell_type": "code",
   "execution_count": 62,
   "metadata": {},
   "outputs": [],
   "source": [
    "no_date.set_index(rng, inplace=True)"
   ]
  },
  {
   "cell_type": "code",
   "execution_count": 64,
   "metadata": {},
   "outputs": [
    {
     "data": {
      "text/html": [
       "<div>\n",
       "<style scoped>\n",
       "    .dataframe tbody tr th:only-of-type {\n",
       "        vertical-align: middle;\n",
       "    }\n",
       "\n",
       "    .dataframe tbody tr th {\n",
       "        vertical-align: top;\n",
       "    }\n",
       "\n",
       "    .dataframe thead th {\n",
       "        text-align: right;\n",
       "    }\n",
       "</style>\n",
       "<table border=\"1\" class=\"dataframe\">\n",
       "  <thead>\n",
       "    <tr style=\"text-align: right;\">\n",
       "      <th></th>\n",
       "      <th>Open</th>\n",
       "      <th>High</th>\n",
       "      <th>Low</th>\n",
       "      <th>Close</th>\n",
       "      <th>Volume</th>\n",
       "    </tr>\n",
       "  </thead>\n",
       "  <tbody>\n",
       "    <tr>\n",
       "      <th>2017-07-03</th>\n",
       "      <td>115.800003</td>\n",
       "      <td>116.330002</td>\n",
       "      <td>114.760002</td>\n",
       "      <td>116.150002</td>\n",
       "      <td>28781900</td>\n",
       "    </tr>\n",
       "    <tr>\n",
       "      <th>2017-07-04</th>\n",
       "      <td>115.849998</td>\n",
       "      <td>116.510002</td>\n",
       "      <td>115.750000</td>\n",
       "      <td>116.019997</td>\n",
       "      <td>21118100</td>\n",
       "    </tr>\n",
       "    <tr>\n",
       "      <th>2017-07-05</th>\n",
       "      <td>115.919998</td>\n",
       "      <td>116.860001</td>\n",
       "      <td>115.809998</td>\n",
       "      <td>116.610001</td>\n",
       "      <td>22193600</td>\n",
       "    </tr>\n",
       "    <tr>\n",
       "      <th>2017-07-06</th>\n",
       "      <td>116.779999</td>\n",
       "      <td>118.160004</td>\n",
       "      <td>116.470001</td>\n",
       "      <td>117.910004</td>\n",
       "      <td>31751900</td>\n",
       "    </tr>\n",
       "    <tr>\n",
       "      <th>2017-07-07</th>\n",
       "      <td>117.949997</td>\n",
       "      <td>119.430000</td>\n",
       "      <td>117.940002</td>\n",
       "      <td>118.989998</td>\n",
       "      <td>33561900</td>\n",
       "    </tr>\n",
       "    <tr>\n",
       "      <th>2017-07-10</th>\n",
       "      <td>118.769997</td>\n",
       "      <td>119.379997</td>\n",
       "      <td>118.300003</td>\n",
       "      <td>119.110001</td>\n",
       "      <td>24462100</td>\n",
       "    </tr>\n",
       "    <tr>\n",
       "      <th>2017-07-11</th>\n",
       "      <td>118.739998</td>\n",
       "      <td>119.930000</td>\n",
       "      <td>118.599998</td>\n",
       "      <td>119.750000</td>\n",
       "      <td>27588600</td>\n",
       "    </tr>\n",
       "    <tr>\n",
       "      <th>2017-07-12</th>\n",
       "      <td>118.900002</td>\n",
       "      <td>119.300003</td>\n",
       "      <td>118.209999</td>\n",
       "      <td>119.250000</td>\n",
       "      <td>27086200</td>\n",
       "    </tr>\n",
       "    <tr>\n",
       "      <th>2017-07-13</th>\n",
       "      <td>119.110001</td>\n",
       "      <td>119.620003</td>\n",
       "      <td>118.809998</td>\n",
       "      <td>119.040001</td>\n",
       "      <td>26111900</td>\n",
       "    </tr>\n",
       "    <tr>\n",
       "      <th>2017-07-14</th>\n",
       "      <td>118.339996</td>\n",
       "      <td>120.239998</td>\n",
       "      <td>118.220001</td>\n",
       "      <td>120.000000</td>\n",
       "      <td>34439800</td>\n",
       "    </tr>\n",
       "    <tr>\n",
       "      <th>2017-07-17</th>\n",
       "      <td>120.000000</td>\n",
       "      <td>120.500000</td>\n",
       "      <td>119.709999</td>\n",
       "      <td>119.989998</td>\n",
       "      <td>23713000</td>\n",
       "    </tr>\n",
       "    <tr>\n",
       "      <th>2017-07-18</th>\n",
       "      <td>119.400002</td>\n",
       "      <td>120.089996</td>\n",
       "      <td>119.370003</td>\n",
       "      <td>119.779999</td>\n",
       "      <td>25597300</td>\n",
       "    </tr>\n",
       "    <tr>\n",
       "      <th>2017-07-19</th>\n",
       "      <td>120.449997</td>\n",
       "      <td>120.449997</td>\n",
       "      <td>119.730003</td>\n",
       "      <td>120.000000</td>\n",
       "      <td>32597900</td>\n",
       "    </tr>\n",
       "    <tr>\n",
       "      <th>2017-07-20</th>\n",
       "      <td>120.000000</td>\n",
       "      <td>120.809998</td>\n",
       "      <td>119.769997</td>\n",
       "      <td>120.080002</td>\n",
       "      <td>22050200</td>\n",
       "    </tr>\n",
       "    <tr>\n",
       "      <th>2017-07-21</th>\n",
       "      <td>119.550003</td>\n",
       "      <td>120.099998</td>\n",
       "      <td>119.500000</td>\n",
       "      <td>119.970001</td>\n",
       "      <td>23211000</td>\n",
       "    </tr>\n",
       "    <tr>\n",
       "      <th>2017-07-24</th>\n",
       "      <td>120.419998</td>\n",
       "      <td>122.099998</td>\n",
       "      <td>120.279999</td>\n",
       "      <td>121.879997</td>\n",
       "      <td>32377600</td>\n",
       "    </tr>\n",
       "    <tr>\n",
       "      <th>2017-07-25</th>\n",
       "      <td>121.669998</td>\n",
       "      <td>122.440002</td>\n",
       "      <td>121.599998</td>\n",
       "      <td>121.940002</td>\n",
       "      <td>26337600</td>\n",
       "    </tr>\n",
       "    <tr>\n",
       "      <th>2017-07-26</th>\n",
       "      <td>122.139999</td>\n",
       "      <td>122.349998</td>\n",
       "      <td>121.599998</td>\n",
       "      <td>121.949997</td>\n",
       "      <td>20562900</td>\n",
       "    </tr>\n",
       "    <tr>\n",
       "      <th>2017-07-27</th>\n",
       "      <td>120.930000</td>\n",
       "      <td>121.629997</td>\n",
       "      <td>120.660004</td>\n",
       "      <td>121.629997</td>\n",
       "      <td>30377500</td>\n",
       "    </tr>\n",
       "    <tr>\n",
       "      <th>2017-07-28</th>\n",
       "      <td>121.150002</td>\n",
       "      <td>121.389999</td>\n",
       "      <td>120.620003</td>\n",
       "      <td>121.349998</td>\n",
       "      <td>49201000</td>\n",
       "    </tr>\n",
       "  </tbody>\n",
       "</table>\n",
       "</div>"
      ],
      "text/plain": [
       "                  Open        High         Low       Close    Volume\n",
       "2017-07-03  115.800003  116.330002  114.760002  116.150002  28781900\n",
       "2017-07-04  115.849998  116.510002  115.750000  116.019997  21118100\n",
       "2017-07-05  115.919998  116.860001  115.809998  116.610001  22193600\n",
       "2017-07-06  116.779999  118.160004  116.470001  117.910004  31751900\n",
       "2017-07-07  117.949997  119.430000  117.940002  118.989998  33561900\n",
       "2017-07-10  118.769997  119.379997  118.300003  119.110001  24462100\n",
       "2017-07-11  118.739998  119.930000  118.599998  119.750000  27588600\n",
       "2017-07-12  118.900002  119.300003  118.209999  119.250000  27086200\n",
       "2017-07-13  119.110001  119.620003  118.809998  119.040001  26111900\n",
       "2017-07-14  118.339996  120.239998  118.220001  120.000000  34439800\n",
       "2017-07-17  120.000000  120.500000  119.709999  119.989998  23713000\n",
       "2017-07-18  119.400002  120.089996  119.370003  119.779999  25597300\n",
       "2017-07-19  120.449997  120.449997  119.730003  120.000000  32597900\n",
       "2017-07-20  120.000000  120.809998  119.769997  120.080002  22050200\n",
       "2017-07-21  119.550003  120.099998  119.500000  119.970001  23211000\n",
       "2017-07-24  120.419998  122.099998  120.279999  121.879997  32377600\n",
       "2017-07-25  121.669998  122.440002  121.599998  121.940002  26337600\n",
       "2017-07-26  122.139999  122.349998  121.599998  121.949997  20562900\n",
       "2017-07-27  120.930000  121.629997  120.660004  121.629997  30377500\n",
       "2017-07-28  121.150002  121.389999  120.620003  121.349998  49201000"
      ]
     },
     "execution_count": 64,
     "metadata": {},
     "output_type": "execute_result"
    }
   ],
   "source": [
    "no_date"
   ]
  },
  {
   "cell_type": "code",
   "execution_count": 67,
   "metadata": {},
   "outputs": [
    {
     "data": {
      "text/html": [
       "<div>\n",
       "<style scoped>\n",
       "    .dataframe tbody tr th:only-of-type {\n",
       "        vertical-align: middle;\n",
       "    }\n",
       "\n",
       "    .dataframe tbody tr th {\n",
       "        vertical-align: top;\n",
       "    }\n",
       "\n",
       "    .dataframe thead th {\n",
       "        text-align: right;\n",
       "    }\n",
       "</style>\n",
       "<table border=\"1\" class=\"dataframe\">\n",
       "  <thead>\n",
       "    <tr style=\"text-align: right;\">\n",
       "      <th></th>\n",
       "      <th>Open</th>\n",
       "      <th>High</th>\n",
       "      <th>Low</th>\n",
       "      <th>Close</th>\n",
       "      <th>Volume</th>\n",
       "    </tr>\n",
       "  </thead>\n",
       "  <tbody>\n",
       "    <tr>\n",
       "      <th>2017-07-03</th>\n",
       "      <td>115.800003</td>\n",
       "      <td>116.330002</td>\n",
       "      <td>114.760002</td>\n",
       "      <td>116.150002</td>\n",
       "      <td>28781900</td>\n",
       "    </tr>\n",
       "    <tr>\n",
       "      <th>2017-07-04</th>\n",
       "      <td>115.849998</td>\n",
       "      <td>116.510002</td>\n",
       "      <td>115.750000</td>\n",
       "      <td>116.019997</td>\n",
       "      <td>21118100</td>\n",
       "    </tr>\n",
       "    <tr>\n",
       "      <th>2017-07-05</th>\n",
       "      <td>115.919998</td>\n",
       "      <td>116.860001</td>\n",
       "      <td>115.809998</td>\n",
       "      <td>116.610001</td>\n",
       "      <td>22193600</td>\n",
       "    </tr>\n",
       "    <tr>\n",
       "      <th>2017-07-06</th>\n",
       "      <td>116.779999</td>\n",
       "      <td>118.160004</td>\n",
       "      <td>116.470001</td>\n",
       "      <td>117.910004</td>\n",
       "      <td>31751900</td>\n",
       "    </tr>\n",
       "    <tr>\n",
       "      <th>2017-07-07</th>\n",
       "      <td>117.949997</td>\n",
       "      <td>119.430000</td>\n",
       "      <td>117.940002</td>\n",
       "      <td>118.989998</td>\n",
       "      <td>33561900</td>\n",
       "    </tr>\n",
       "    <tr>\n",
       "      <th>2017-07-08</th>\n",
       "      <td>117.949997</td>\n",
       "      <td>119.430000</td>\n",
       "      <td>117.940002</td>\n",
       "      <td>118.989998</td>\n",
       "      <td>33561900</td>\n",
       "    </tr>\n",
       "    <tr>\n",
       "      <th>2017-07-09</th>\n",
       "      <td>117.949997</td>\n",
       "      <td>119.430000</td>\n",
       "      <td>117.940002</td>\n",
       "      <td>118.989998</td>\n",
       "      <td>33561900</td>\n",
       "    </tr>\n",
       "    <tr>\n",
       "      <th>2017-07-10</th>\n",
       "      <td>118.769997</td>\n",
       "      <td>119.379997</td>\n",
       "      <td>118.300003</td>\n",
       "      <td>119.110001</td>\n",
       "      <td>24462100</td>\n",
       "    </tr>\n",
       "    <tr>\n",
       "      <th>2017-07-11</th>\n",
       "      <td>118.739998</td>\n",
       "      <td>119.930000</td>\n",
       "      <td>118.599998</td>\n",
       "      <td>119.750000</td>\n",
       "      <td>27588600</td>\n",
       "    </tr>\n",
       "    <tr>\n",
       "      <th>2017-07-12</th>\n",
       "      <td>118.900002</td>\n",
       "      <td>119.300003</td>\n",
       "      <td>118.209999</td>\n",
       "      <td>119.250000</td>\n",
       "      <td>27086200</td>\n",
       "    </tr>\n",
       "    <tr>\n",
       "      <th>2017-07-13</th>\n",
       "      <td>119.110001</td>\n",
       "      <td>119.620003</td>\n",
       "      <td>118.809998</td>\n",
       "      <td>119.040001</td>\n",
       "      <td>26111900</td>\n",
       "    </tr>\n",
       "    <tr>\n",
       "      <th>2017-07-14</th>\n",
       "      <td>118.339996</td>\n",
       "      <td>120.239998</td>\n",
       "      <td>118.220001</td>\n",
       "      <td>120.000000</td>\n",
       "      <td>34439800</td>\n",
       "    </tr>\n",
       "    <tr>\n",
       "      <th>2017-07-15</th>\n",
       "      <td>118.339996</td>\n",
       "      <td>120.239998</td>\n",
       "      <td>118.220001</td>\n",
       "      <td>120.000000</td>\n",
       "      <td>34439800</td>\n",
       "    </tr>\n",
       "    <tr>\n",
       "      <th>2017-07-16</th>\n",
       "      <td>118.339996</td>\n",
       "      <td>120.239998</td>\n",
       "      <td>118.220001</td>\n",
       "      <td>120.000000</td>\n",
       "      <td>34439800</td>\n",
       "    </tr>\n",
       "    <tr>\n",
       "      <th>2017-07-17</th>\n",
       "      <td>120.000000</td>\n",
       "      <td>120.500000</td>\n",
       "      <td>119.709999</td>\n",
       "      <td>119.989998</td>\n",
       "      <td>23713000</td>\n",
       "    </tr>\n",
       "    <tr>\n",
       "      <th>2017-07-18</th>\n",
       "      <td>119.400002</td>\n",
       "      <td>120.089996</td>\n",
       "      <td>119.370003</td>\n",
       "      <td>119.779999</td>\n",
       "      <td>25597300</td>\n",
       "    </tr>\n",
       "    <tr>\n",
       "      <th>2017-07-19</th>\n",
       "      <td>120.449997</td>\n",
       "      <td>120.449997</td>\n",
       "      <td>119.730003</td>\n",
       "      <td>120.000000</td>\n",
       "      <td>32597900</td>\n",
       "    </tr>\n",
       "    <tr>\n",
       "      <th>2017-07-20</th>\n",
       "      <td>120.000000</td>\n",
       "      <td>120.809998</td>\n",
       "      <td>119.769997</td>\n",
       "      <td>120.080002</td>\n",
       "      <td>22050200</td>\n",
       "    </tr>\n",
       "    <tr>\n",
       "      <th>2017-07-21</th>\n",
       "      <td>119.550003</td>\n",
       "      <td>120.099998</td>\n",
       "      <td>119.500000</td>\n",
       "      <td>119.970001</td>\n",
       "      <td>23211000</td>\n",
       "    </tr>\n",
       "    <tr>\n",
       "      <th>2017-07-22</th>\n",
       "      <td>119.550003</td>\n",
       "      <td>120.099998</td>\n",
       "      <td>119.500000</td>\n",
       "      <td>119.970001</td>\n",
       "      <td>23211000</td>\n",
       "    </tr>\n",
       "    <tr>\n",
       "      <th>2017-07-23</th>\n",
       "      <td>119.550003</td>\n",
       "      <td>120.099998</td>\n",
       "      <td>119.500000</td>\n",
       "      <td>119.970001</td>\n",
       "      <td>23211000</td>\n",
       "    </tr>\n",
       "    <tr>\n",
       "      <th>2017-07-24</th>\n",
       "      <td>120.419998</td>\n",
       "      <td>122.099998</td>\n",
       "      <td>120.279999</td>\n",
       "      <td>121.879997</td>\n",
       "      <td>32377600</td>\n",
       "    </tr>\n",
       "    <tr>\n",
       "      <th>2017-07-25</th>\n",
       "      <td>121.669998</td>\n",
       "      <td>122.440002</td>\n",
       "      <td>121.599998</td>\n",
       "      <td>121.940002</td>\n",
       "      <td>26337600</td>\n",
       "    </tr>\n",
       "    <tr>\n",
       "      <th>2017-07-26</th>\n",
       "      <td>122.139999</td>\n",
       "      <td>122.349998</td>\n",
       "      <td>121.599998</td>\n",
       "      <td>121.949997</td>\n",
       "      <td>20562900</td>\n",
       "    </tr>\n",
       "    <tr>\n",
       "      <th>2017-07-27</th>\n",
       "      <td>120.930000</td>\n",
       "      <td>121.629997</td>\n",
       "      <td>120.660004</td>\n",
       "      <td>121.629997</td>\n",
       "      <td>30377500</td>\n",
       "    </tr>\n",
       "    <tr>\n",
       "      <th>2017-07-28</th>\n",
       "      <td>121.150002</td>\n",
       "      <td>121.389999</td>\n",
       "      <td>120.620003</td>\n",
       "      <td>121.349998</td>\n",
       "      <td>49201000</td>\n",
       "    </tr>\n",
       "  </tbody>\n",
       "</table>\n",
       "</div>"
      ],
      "text/plain": [
       "                  Open        High         Low       Close    Volume\n",
       "2017-07-03  115.800003  116.330002  114.760002  116.150002  28781900\n",
       "2017-07-04  115.849998  116.510002  115.750000  116.019997  21118100\n",
       "2017-07-05  115.919998  116.860001  115.809998  116.610001  22193600\n",
       "2017-07-06  116.779999  118.160004  116.470001  117.910004  31751900\n",
       "2017-07-07  117.949997  119.430000  117.940002  118.989998  33561900\n",
       "2017-07-08  117.949997  119.430000  117.940002  118.989998  33561900\n",
       "2017-07-09  117.949997  119.430000  117.940002  118.989998  33561900\n",
       "2017-07-10  118.769997  119.379997  118.300003  119.110001  24462100\n",
       "2017-07-11  118.739998  119.930000  118.599998  119.750000  27588600\n",
       "2017-07-12  118.900002  119.300003  118.209999  119.250000  27086200\n",
       "2017-07-13  119.110001  119.620003  118.809998  119.040001  26111900\n",
       "2017-07-14  118.339996  120.239998  118.220001  120.000000  34439800\n",
       "2017-07-15  118.339996  120.239998  118.220001  120.000000  34439800\n",
       "2017-07-16  118.339996  120.239998  118.220001  120.000000  34439800\n",
       "2017-07-17  120.000000  120.500000  119.709999  119.989998  23713000\n",
       "2017-07-18  119.400002  120.089996  119.370003  119.779999  25597300\n",
       "2017-07-19  120.449997  120.449997  119.730003  120.000000  32597900\n",
       "2017-07-20  120.000000  120.809998  119.769997  120.080002  22050200\n",
       "2017-07-21  119.550003  120.099998  119.500000  119.970001  23211000\n",
       "2017-07-22  119.550003  120.099998  119.500000  119.970001  23211000\n",
       "2017-07-23  119.550003  120.099998  119.500000  119.970001  23211000\n",
       "2017-07-24  120.419998  122.099998  120.279999  121.879997  32377600\n",
       "2017-07-25  121.669998  122.440002  121.599998  121.940002  26337600\n",
       "2017-07-26  122.139999  122.349998  121.599998  121.949997  20562900\n",
       "2017-07-27  120.930000  121.629997  120.660004  121.629997  30377500\n",
       "2017-07-28  121.150002  121.389999  120.620003  121.349998  49201000"
      ]
     },
     "execution_count": 67,
     "metadata": {},
     "output_type": "execute_result"
    }
   ],
   "source": [
    "no_date.asfreq('D', method='pad')"
   ]
  },
  {
   "cell_type": "code",
   "execution_count": 68,
   "metadata": {},
   "outputs": [],
   "source": [
    "rng = pd.date_range(start=\"1/1/2017\", periods=72, freq=\"B\")"
   ]
  },
  {
   "cell_type": "code",
   "execution_count": 69,
   "metadata": {},
   "outputs": [
    {
     "data": {
      "text/plain": [
       "DatetimeIndex(['2017-01-02', '2017-01-03', '2017-01-04', '2017-01-05',\n",
       "               '2017-01-06', '2017-01-09', '2017-01-10', '2017-01-11',\n",
       "               '2017-01-12', '2017-01-13', '2017-01-16', '2017-01-17',\n",
       "               '2017-01-18', '2017-01-19', '2017-01-20', '2017-01-23',\n",
       "               '2017-01-24', '2017-01-25', '2017-01-26', '2017-01-27',\n",
       "               '2017-01-30', '2017-01-31', '2017-02-01', '2017-02-02',\n",
       "               '2017-02-03', '2017-02-06', '2017-02-07', '2017-02-08',\n",
       "               '2017-02-09', '2017-02-10', '2017-02-13', '2017-02-14',\n",
       "               '2017-02-15', '2017-02-16', '2017-02-17', '2017-02-20',\n",
       "               '2017-02-21', '2017-02-22', '2017-02-23', '2017-02-24',\n",
       "               '2017-02-27', '2017-02-28', '2017-03-01', '2017-03-02',\n",
       "               '2017-03-03', '2017-03-06', '2017-03-07', '2017-03-08',\n",
       "               '2017-03-09', '2017-03-10', '2017-03-13', '2017-03-14',\n",
       "               '2017-03-15', '2017-03-16', '2017-03-17', '2017-03-20',\n",
       "               '2017-03-21', '2017-03-22', '2017-03-23', '2017-03-24',\n",
       "               '2017-03-27', '2017-03-28', '2017-03-29', '2017-03-30',\n",
       "               '2017-03-31', '2017-04-03', '2017-04-04', '2017-04-05',\n",
       "               '2017-04-06', '2017-04-07', '2017-04-10', '2017-04-11'],\n",
       "              dtype='datetime64[ns]', freq='B')"
      ]
     },
     "execution_count": 69,
     "metadata": {},
     "output_type": "execute_result"
    }
   ],
   "source": [
    "rng"
   ]
  },
  {
   "cell_type": "code",
   "execution_count": 74,
   "metadata": {},
   "outputs": [],
   "source": [
    "import numpy as np\n",
    "dd = pd.Series(np.random.randint(1,10,len(rng)))"
   ]
  },
  {
   "cell_type": "code",
   "execution_count": 76,
   "metadata": {},
   "outputs": [
    {
     "data": {
      "text/plain": [
       "0    5\n",
       "1    2\n",
       "2    4\n",
       "3    4\n",
       "4    1\n",
       "dtype: int32"
      ]
     },
     "execution_count": 76,
     "metadata": {},
     "output_type": "execute_result"
    },
    {
     "data": {
      "image/png": "[encoded data removed]",
      "text/plain": [
       "<Figure size 432x288 with 1 Axes>"
      ]
     },
     "metadata": {
      "needs_background": "light"
     },
     "output_type": "display_data"
    }
   ],
   "source": [
    "dd.plot()\n",
    "dd.head(5)"
   ]
  },
  {
   "cell_type": "code",
   "execution_count": 77,
   "metadata": {},
   "outputs": [],
   "source": [
    "# https://www.youtube.com/watch?v=Fo0IMzfcnQE"
   ]
  },
  {
   "cell_type": "code",
   "execution_count": null,
   "metadata": {},
   "outputs": [],
   "source": []
  }
 ],
 "metadata": {
  "kernelspec": {
   "display_name": "Python 3",
   "language": "python",
   "name": "python3"
  },
  "language_info": {
   "codemirror_mode": {
    "name": "ipython",
    "version": 3
   },
   "file_extension": ".py",
   "mimetype": "text/x-python",
   "name": "python",
   "nbconvert_exporter": "python",
   "pygments_lexer": "ipython3",
   "version": "3.6.8"
  }
 },
 "nbformat": 4,
 "nbformat_minor": 2
}
