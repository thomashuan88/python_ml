{
 "cells": [
  {
   "cell_type": "code",
   "execution_count": 6,
   "metadata": {},
   "outputs": [
    {
     "name": "stdout",
     "output_type": "stream",
     "text": [
      "(891, 12)\n"
     ]
    },
    {
     "data": {
      "text/html": [
       "<div>\n",
       "<style scoped>\n",
       "    .dataframe tbody tr th:only-of-type {\n",
       "        vertical-align: middle;\n",
       "    }\n",
       "\n",
       "    .dataframe tbody tr th {\n",
       "        vertical-align: top;\n",
       "    }\n",
       "\n",
       "    .dataframe thead th {\n",
       "        text-align: right;\n",
       "    }\n",
       "</style>\n",
       "<table border=\"1\" class=\"dataframe\">\n",
       "  <thead>\n",
       "    <tr style=\"text-align: right;\">\n",
       "      <th></th>\n",
       "      <th>PassengerId</th>\n",
       "      <th>Survived</th>\n",
       "      <th>Pclass</th>\n",
       "      <th>Name</th>\n",
       "      <th>Sex</th>\n",
       "      <th>Age</th>\n",
       "      <th>SibSp</th>\n",
       "      <th>Parch</th>\n",
       "      <th>Ticket</th>\n",
       "      <th>Fare</th>\n",
       "      <th>Cabin</th>\n",
       "      <th>Embarked</th>\n",
       "    </tr>\n",
       "  </thead>\n",
       "  <tbody>\n",
       "    <tr>\n",
       "      <th>0</th>\n",
       "      <td>1</td>\n",
       "      <td>0</td>\n",
       "      <td>3</td>\n",
       "      <td>Braund, Mr. Owen Harris</td>\n",
       "      <td>male</td>\n",
       "      <td>22.0</td>\n",
       "      <td>1</td>\n",
       "      <td>0</td>\n",
       "      <td>A/5 21171</td>\n",
       "      <td>7.2500</td>\n",
       "      <td>NaN</td>\n",
       "      <td>S</td>\n",
       "    </tr>\n",
       "    <tr>\n",
       "      <th>1</th>\n",
       "      <td>2</td>\n",
       "      <td>1</td>\n",
       "      <td>1</td>\n",
       "      <td>Cumings, Mrs. John Bradley (Florence Briggs Th...</td>\n",
       "      <td>female</td>\n",
       "      <td>38.0</td>\n",
       "      <td>1</td>\n",
       "      <td>0</td>\n",
       "      <td>PC 17599</td>\n",
       "      <td>71.2833</td>\n",
       "      <td>C85</td>\n",
       "      <td>C</td>\n",
       "    </tr>\n",
       "    <tr>\n",
       "      <th>2</th>\n",
       "      <td>3</td>\n",
       "      <td>1</td>\n",
       "      <td>3</td>\n",
       "      <td>Heikkinen, Miss. Laina</td>\n",
       "      <td>female</td>\n",
       "      <td>26.0</td>\n",
       "      <td>0</td>\n",
       "      <td>0</td>\n",
       "      <td>STON/O2. 3101282</td>\n",
       "      <td>7.9250</td>\n",
       "      <td>NaN</td>\n",
       "      <td>S</td>\n",
       "    </tr>\n",
       "    <tr>\n",
       "      <th>3</th>\n",
       "      <td>4</td>\n",
       "      <td>1</td>\n",
       "      <td>1</td>\n",
       "      <td>Futrelle, Mrs. Jacques Heath (Lily May Peel)</td>\n",
       "      <td>female</td>\n",
       "      <td>35.0</td>\n",
       "      <td>1</td>\n",
       "      <td>0</td>\n",
       "      <td>113803</td>\n",
       "      <td>53.1000</td>\n",
       "      <td>C123</td>\n",
       "      <td>S</td>\n",
       "    </tr>\n",
       "    <tr>\n",
       "      <th>4</th>\n",
       "      <td>5</td>\n",
       "      <td>0</td>\n",
       "      <td>3</td>\n",
       "      <td>Allen, Mr. William Henry</td>\n",
       "      <td>male</td>\n",
       "      <td>35.0</td>\n",
       "      <td>0</td>\n",
       "      <td>0</td>\n",
       "      <td>373450</td>\n",
       "      <td>8.0500</td>\n",
       "      <td>NaN</td>\n",
       "      <td>S</td>\n",
       "    </tr>\n",
       "  </tbody>\n",
       "</table>\n",
       "</div>"
      ],
      "text/plain": [
       "   PassengerId  Survived  Pclass  \\\n",
       "0            1         0       3   \n",
       "1            2         1       1   \n",
       "2            3         1       3   \n",
       "3            4         1       1   \n",
       "4            5         0       3   \n",
       "\n",
       "                                                Name     Sex   Age  SibSp  \\\n",
       "0                            Braund, Mr. Owen Harris    male  22.0      1   \n",
       "1  Cumings, Mrs. John Bradley (Florence Briggs Th...  female  38.0      1   \n",
       "2                             Heikkinen, Miss. Laina  female  26.0      0   \n",
       "3       Futrelle, Mrs. Jacques Heath (Lily May Peel)  female  35.0      1   \n",
       "4                           Allen, Mr. William Henry    male  35.0      0   \n",
       "\n",
       "   Parch            Ticket     Fare Cabin Embarked  \n",
       "0      0         A/5 21171   7.2500   NaN        S  \n",
       "1      0          PC 17599  71.2833   C85        C  \n",
       "2      0  STON/O2. 3101282   7.9250   NaN        S  \n",
       "3      0            113803  53.1000  C123        S  \n",
       "4      0            373450   8.0500   NaN        S  "
      ]
     },
     "execution_count": 6,
     "metadata": {},
     "output_type": "execute_result"
    }
   ],
   "source": [
    "import pandas as pd\n",
    "import numpy as np\n",
    "\n",
    "titanic_survival = pd.read_csv(\"titanic_train.csv\")\n",
    "print(titanic_survival.shape)\n",
    "titanic_survival.head()"
   ]
  },
  {
   "cell_type": "code",
   "execution_count": 13,
   "metadata": {},
   "outputs": [
    {
     "name": "stdout",
     "output_type": "stream",
     "text": [
      "5     NaN\n",
      "17    NaN\n",
      "19    NaN\n",
      "26    NaN\n",
      "28    NaN\n",
      "29    NaN\n",
      "31    NaN\n",
      "32    NaN\n",
      "36    NaN\n",
      "42    NaN\n",
      "45    NaN\n",
      "46    NaN\n",
      "47    NaN\n",
      "48    NaN\n",
      "55    NaN\n",
      "64    NaN\n",
      "65    NaN\n",
      "76    NaN\n",
      "77    NaN\n",
      "82    NaN\n",
      "87    NaN\n",
      "95    NaN\n",
      "101   NaN\n",
      "107   NaN\n",
      "109   NaN\n",
      "121   NaN\n",
      "126   NaN\n",
      "128   NaN\n",
      "140   NaN\n",
      "154   NaN\n",
      "       ..\n",
      "718   NaN\n",
      "727   NaN\n",
      "732   NaN\n",
      "738   NaN\n",
      "739   NaN\n",
      "740   NaN\n",
      "760   NaN\n",
      "766   NaN\n",
      "768   NaN\n",
      "773   NaN\n",
      "776   NaN\n",
      "778   NaN\n",
      "783   NaN\n",
      "790   NaN\n",
      "792   NaN\n",
      "793   NaN\n",
      "815   NaN\n",
      "825   NaN\n",
      "826   NaN\n",
      "828   NaN\n",
      "832   NaN\n",
      "837   NaN\n",
      "839   NaN\n",
      "846   NaN\n",
      "849   NaN\n",
      "859   NaN\n",
      "863   NaN\n",
      "868   NaN\n",
      "878   NaN\n",
      "888   NaN\n",
      "Name: Age, Length: 177, dtype: float64\n",
      "177\n"
     ]
    }
   ],
   "source": [
    "age = titanic_survival[\"Age\"]\n",
    "# print(age.loc[0:10])\n",
    "\n",
    "age_is_null = pd.isnull(age) #\n",
    "# print(age_is_null)\n",
    "\n",
    "age_null_true = age[age_is_null]\n",
    "print(age_null_true)\n",
    "\n",
    "age_null_count = len(age_null_true)\n",
    "print(age_null_count)"
   ]
  },
  {
   "cell_type": "code",
   "execution_count": 15,
   "metadata": {},
   "outputs": [
    {
     "name": "stdout",
     "output_type": "stream",
     "text": [
      "nan\n"
     ]
    }
   ],
   "source": [
    "mean_age = sum(titanic_survival[\"Age\"]) / len(titanic_survival[\"Age\"])\n",
    "print(mean_age)"
   ]
  },
  {
   "cell_type": "code",
   "execution_count": 16,
   "metadata": {},
   "outputs": [
    {
     "name": "stdout",
     "output_type": "stream",
     "text": [
      "29.69911764705882\n"
     ]
    }
   ],
   "source": [
    "# we have to filter out the missing values before we calculate the mean\n",
    "good_ages = titanic_survival[\"Age\"][age_is_null == False]\n",
    "#print good ages\n",
    "correct_mean_age = sum(good_ages) / len(good_ages)\n",
    "print(correct_mean_age)"
   ]
  },
  {
   "cell_type": "code",
   "execution_count": 17,
   "metadata": {},
   "outputs": [
    {
     "name": "stdout",
     "output_type": "stream",
     "text": [
      "29.69911764705882\n"
     ]
    }
   ],
   "source": [
    "# missing data is so common that many pandas method automatically filter for it\n",
    "correct_mean_age = titanic_survival[\"Age\"].mean()\n",
    "print(correct_mean_age)"
   ]
  },
  {
   "cell_type": "code",
   "execution_count": 18,
   "metadata": {},
   "outputs": [
    {
     "name": "stdout",
     "output_type": "stream",
     "text": [
      "{1: 84.15468749999992, 2: 20.66218315217391, 3: 13.675550101832997}\n"
     ]
    }
   ],
   "source": [
    "#mean fare for each class\n",
    "passenger_classes = [1,2,3]\n",
    "fares_by_class = {}\n",
    "for this_class in passenger_classes:\n",
    "    pclass_rows = titanic_survival[titanic_survival[\"Pclass\"] == this_class]\n",
    "    pclass_fares = pclass_rows[\"Fare\"]\n",
    "    fare_for_class = pclass_fares.mean()\n",
    "    fares_by_class[this_class] = fare_for_class\n",
    "print(fares_by_class)"
   ]
  },
  {
   "cell_type": "code",
   "execution_count": 21,
   "metadata": {},
   "outputs": [
    {
     "name": "stdout",
     "output_type": "stream",
     "text": [
      "        Survived\n",
      "Pclass          \n",
      "1       0.629630\n",
      "2       0.472826\n",
      "3       0.242363\n"
     ]
    }
   ],
   "source": [
    "#index tells the method which column to group by \n",
    "#values is the column that we want to apply the calculation to\n",
    "#aggfunc specifies the calculation we want to perform\n",
    "passenger_survival = titanic_survival.pivot_table(index=\"Pclass\", values=\"Survived\", aggfunc=np.mean)\n",
    "print(passenger_survival)"
   ]
  },
  {
   "cell_type": "code",
   "execution_count": 25,
   "metadata": {},
   "outputs": [
    {
     "name": "stdout",
     "output_type": "stream",
     "text": [
      "              Age\n",
      "Pclass           \n",
      "1       38.233441\n",
      "2       29.877630\n",
      "3       25.140620\n"
     ]
    }
   ],
   "source": [
    "passenger_age = titanic_survival.pivot_table(index=\"Pclass\", values=\"Age\", aggfunc=np.mean)\n",
    "print(passenger_age)"
   ]
  },
  {
   "cell_type": "code",
   "execution_count": null,
   "metadata": {},
   "outputs": [],
   "source": []
  }
 ],
 "metadata": {
  "kernelspec": {
   "display_name": "Python 3",
   "language": "python",
   "name": "python3"
  },
  "language_info": {
   "codemirror_mode": {
    "name": "ipython",
    "version": 3
   },
   "file_extension": ".py",
   "mimetype": "text/x-python",
   "name": "python",
   "nbconvert_exporter": "python",
   "pygments_lexer": "ipython3",
   "version": "3.6.8"
  }
 },
 "nbformat": 4,
 "nbformat_minor": 2
}
