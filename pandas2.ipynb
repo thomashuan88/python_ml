{
 "cells": [
  {
   "cell_type": "code",
   "execution_count": 1,
   "metadata": {},
   "outputs": [
    {
     "name": "stdout",
     "output_type": "stream",
     "text": [
      "(891, 12)\n"
     ]
    },
    {
     "data": {
      "text/html": [
       "<div>\n",
       "<style scoped>\n",
       "    .dataframe tbody tr th:only-of-type {\n",
       "        vertical-align: middle;\n",
       "    }\n",
       "\n",
       "    .dataframe tbody tr th {\n",
       "        vertical-align: top;\n",
       "    }\n",
       "\n",
       "    .dataframe thead th {\n",
       "        text-align: right;\n",
       "    }\n",
       "</style>\n",
       "<table border=\"1\" class=\"dataframe\">\n",
       "  <thead>\n",
       "    <tr style=\"text-align: right;\">\n",
       "      <th></th>\n",
       "      <th>PassengerId</th>\n",
       "      <th>Survived</th>\n",
       "      <th>Pclass</th>\n",
       "      <th>Name</th>\n",
       "      <th>Sex</th>\n",
       "      <th>Age</th>\n",
       "      <th>SibSp</th>\n",
       "      <th>Parch</th>\n",
       "      <th>Ticket</th>\n",
       "      <th>Fare</th>\n",
       "      <th>Cabin</th>\n",
       "      <th>Embarked</th>\n",
       "    </tr>\n",
       "  </thead>\n",
       "  <tbody>\n",
       "    <tr>\n",
       "      <th>0</th>\n",
       "      <td>1</td>\n",
       "      <td>0</td>\n",
       "      <td>3</td>\n",
       "      <td>Braund, Mr. Owen Harris</td>\n",
       "      <td>male</td>\n",
       "      <td>22.0</td>\n",
       "      <td>1</td>\n",
       "      <td>0</td>\n",
       "      <td>A/5 21171</td>\n",
       "      <td>7.2500</td>\n",
       "      <td>NaN</td>\n",
       "      <td>S</td>\n",
       "    </tr>\n",
       "    <tr>\n",
       "      <th>1</th>\n",
       "      <td>2</td>\n",
       "      <td>1</td>\n",
       "      <td>1</td>\n",
       "      <td>Cumings, Mrs. John Bradley (Florence Briggs Th...</td>\n",
       "      <td>female</td>\n",
       "      <td>38.0</td>\n",
       "      <td>1</td>\n",
       "      <td>0</td>\n",
       "      <td>PC 17599</td>\n",
       "      <td>71.2833</td>\n",
       "      <td>C85</td>\n",
       "      <td>C</td>\n",
       "    </tr>\n",
       "    <tr>\n",
       "      <th>2</th>\n",
       "      <td>3</td>\n",
       "      <td>1</td>\n",
       "      <td>3</td>\n",
       "      <td>Heikkinen, Miss. Laina</td>\n",
       "      <td>female</td>\n",
       "      <td>26.0</td>\n",
       "      <td>0</td>\n",
       "      <td>0</td>\n",
       "      <td>STON/O2. 3101282</td>\n",
       "      <td>7.9250</td>\n",
       "      <td>NaN</td>\n",
       "      <td>S</td>\n",
       "    </tr>\n",
       "    <tr>\n",
       "      <th>3</th>\n",
       "      <td>4</td>\n",
       "      <td>1</td>\n",
       "      <td>1</td>\n",
       "      <td>Futrelle, Mrs. Jacques Heath (Lily May Peel)</td>\n",
       "      <td>female</td>\n",
       "      <td>35.0</td>\n",
       "      <td>1</td>\n",
       "      <td>0</td>\n",
       "      <td>113803</td>\n",
       "      <td>53.1000</td>\n",
       "      <td>C123</td>\n",
       "      <td>S</td>\n",
       "    </tr>\n",
       "    <tr>\n",
       "      <th>4</th>\n",
       "      <td>5</td>\n",
       "      <td>0</td>\n",
       "      <td>3</td>\n",
       "      <td>Allen, Mr. William Henry</td>\n",
       "      <td>male</td>\n",
       "      <td>35.0</td>\n",
       "      <td>0</td>\n",
       "      <td>0</td>\n",
       "      <td>373450</td>\n",
       "      <td>8.0500</td>\n",
       "      <td>NaN</td>\n",
       "      <td>S</td>\n",
       "    </tr>\n",
       "  </tbody>\n",
       "</table>\n",
       "</div>"
      ],
      "text/plain": [
       "   PassengerId  Survived  Pclass  \\\n",
       "0            1         0       3   \n",
       "1            2         1       1   \n",
       "2            3         1       3   \n",
       "3            4         1       1   \n",
       "4            5         0       3   \n",
       "\n",
       "                                                Name     Sex   Age  SibSp  \\\n",
       "0                            Braund, Mr. Owen Harris    male  22.0      1   \n",
       "1  Cumings, Mrs. John Bradley (Florence Briggs Th...  female  38.0      1   \n",
       "2                             Heikkinen, Miss. Laina  female  26.0      0   \n",
       "3       Futrelle, Mrs. Jacques Heath (Lily May Peel)  female  35.0      1   \n",
       "4                           Allen, Mr. William Henry    male  35.0      0   \n",
       "\n",
       "   Parch            Ticket     Fare Cabin Embarked  \n",
       "0      0         A/5 21171   7.2500   NaN        S  \n",
       "1      0          PC 17599  71.2833   C85        C  \n",
       "2      0  STON/O2. 3101282   7.9250   NaN        S  \n",
       "3      0            113803  53.1000  C123        S  \n",
       "4      0            373450   8.0500   NaN        S  "
      ]
     },
     "execution_count": 1,
     "metadata": {},
     "output_type": "execute_result"
    }
   ],
   "source": [
    "import pandas as pd\n",
    "import numpy as np\n",
    "\n",
    "titanic_survival = pd.read_csv(\"titanic_train.csv\")\n",
    "print(titanic_survival.shape)\n",
    "titanic_survival.head()"
   ]
  },
  {
   "cell_type": "code",
   "execution_count": 2,
   "metadata": {},
   "outputs": [
    {
     "name": "stdout",
     "output_type": "stream",
     "text": [
      "5     NaN\n",
      "17    NaN\n",
      "19    NaN\n",
      "26    NaN\n",
      "28    NaN\n",
      "29    NaN\n",
      "31    NaN\n",
      "32    NaN\n",
      "36    NaN\n",
      "42    NaN\n",
      "45    NaN\n",
      "46    NaN\n",
      "47    NaN\n",
      "48    NaN\n",
      "55    NaN\n",
      "64    NaN\n",
      "65    NaN\n",
      "76    NaN\n",
      "77    NaN\n",
      "82    NaN\n",
      "87    NaN\n",
      "95    NaN\n",
      "101   NaN\n",
      "107   NaN\n",
      "109   NaN\n",
      "121   NaN\n",
      "126   NaN\n",
      "128   NaN\n",
      "140   NaN\n",
      "154   NaN\n",
      "       ..\n",
      "718   NaN\n",
      "727   NaN\n",
      "732   NaN\n",
      "738   NaN\n",
      "739   NaN\n",
      "740   NaN\n",
      "760   NaN\n",
      "766   NaN\n",
      "768   NaN\n",
      "773   NaN\n",
      "776   NaN\n",
      "778   NaN\n",
      "783   NaN\n",
      "790   NaN\n",
      "792   NaN\n",
      "793   NaN\n",
      "815   NaN\n",
      "825   NaN\n",
      "826   NaN\n",
      "828   NaN\n",
      "832   NaN\n",
      "837   NaN\n",
      "839   NaN\n",
      "846   NaN\n",
      "849   NaN\n",
      "859   NaN\n",
      "863   NaN\n",
      "868   NaN\n",
      "878   NaN\n",
      "888   NaN\n",
      "Name: Age, Length: 177, dtype: float64\n",
      "177\n"
     ]
    }
   ],
   "source": [
    "age = titanic_survival[\"Age\"]\n",
    "# print(age.loc[0:10])\n",
    "\n",
    "age_is_null = pd.isnull(age) #\n",
    "# print(age_is_null)\n",
    "\n",
    "age_null_true = age[age_is_null]\n",
    "print(age_null_true)\n",
    "\n",
    "age_null_count = len(age_null_true)\n",
    "print(age_null_count)"
   ]
  },
  {
   "cell_type": "code",
   "execution_count": 3,
   "metadata": {},
   "outputs": [
    {
     "name": "stdout",
     "output_type": "stream",
     "text": [
      "nan\n"
     ]
    }
   ],
   "source": [
    "mean_age = sum(titanic_survival[\"Age\"]) / len(titanic_survival[\"Age\"])\n",
    "print(mean_age)"
   ]
  },
  {
   "cell_type": "code",
   "execution_count": 4,
   "metadata": {},
   "outputs": [
    {
     "name": "stdout",
     "output_type": "stream",
     "text": [
      "29.69911764705882\n"
     ]
    }
   ],
   "source": [
    "# we have to filter out the missing values before we calculate the mean\n",
    "good_ages = titanic_survival[\"Age\"][age_is_null == False]\n",
    "#print good ages\n",
    "correct_mean_age = sum(good_ages) / len(good_ages)\n",
    "print(correct_mean_age)"
   ]
  },
  {
   "cell_type": "code",
   "execution_count": 5,
   "metadata": {},
   "outputs": [
    {
     "name": "stdout",
     "output_type": "stream",
     "text": [
      "29.69911764705882\n"
     ]
    }
   ],
   "source": [
    "# missing data is so common that many pandas method automatically filter for it\n",
    "correct_mean_age = titanic_survival[\"Age\"].mean()\n",
    "print(correct_mean_age)"
   ]
  },
  {
   "cell_type": "code",
   "execution_count": 6,
   "metadata": {},
   "outputs": [
    {
     "name": "stdout",
     "output_type": "stream",
     "text": [
      "{1: 84.15468749999992, 2: 20.66218315217391, 3: 13.675550101832997}\n"
     ]
    }
   ],
   "source": [
    "#mean fare for each class\n",
    "passenger_classes = [1,2,3]\n",
    "fares_by_class = {}\n",
    "for this_class in passenger_classes:\n",
    "    pclass_rows = titanic_survival[titanic_survival[\"Pclass\"] == this_class]\n",
    "    pclass_fares = pclass_rows[\"Fare\"]\n",
    "    fare_for_class = pclass_fares.mean()\n",
    "    fares_by_class[this_class] = fare_for_class\n",
    "print(fares_by_class)"
   ]
  },
  {
   "cell_type": "code",
   "execution_count": 7,
   "metadata": {},
   "outputs": [
    {
     "name": "stdout",
     "output_type": "stream",
     "text": [
      "        Survived\n",
      "Pclass          \n",
      "1       0.629630\n",
      "2       0.472826\n",
      "3       0.242363\n"
     ]
    }
   ],
   "source": [
    "#index tells the method which column to group by \n",
    "#values is the column that we want to apply the calculation to\n",
    "#aggfunc specifies the calculation we want to perform\n",
    "passenger_survival = titanic_survival.pivot_table(index=\"Pclass\", values=\"Survived\", aggfunc=np.mean)\n",
    "print(passenger_survival)"
   ]
  },
  {
   "cell_type": "code",
   "execution_count": 8,
   "metadata": {},
   "outputs": [
    {
     "name": "stdout",
     "output_type": "stream",
     "text": [
      "              Age\n",
      "Pclass           \n",
      "1       38.233441\n",
      "2       29.877630\n",
      "3       25.140620\n"
     ]
    }
   ],
   "source": [
    "passenger_age = titanic_survival.pivot_table(index=\"Pclass\", values=\"Age\", aggfunc=np.mean)\n",
    "print(passenger_age)"
   ]
  },
  {
   "cell_type": "code",
   "execution_count": 9,
   "metadata": {},
   "outputs": [
    {
     "name": "stdout",
     "output_type": "stream",
     "text": [
      "                Fare  Survived\n",
      "Embarked                      \n",
      "C         10072.2962        93\n",
      "Q          1022.2543        30\n",
      "S         17439.3988       217\n"
     ]
    }
   ],
   "source": [
    "port_stats = titanic_survival.pivot_table(index=\"Embarked\", values=[\"Fare\",\"Survived\"], aggfunc=np.sum)\n",
    "print(port_stats)"
   ]
  },
  {
   "cell_type": "code",
   "execution_count": 10,
   "metadata": {},
   "outputs": [],
   "source": [
    "# https://www.youtube.com/watch?v=YASC5oMkhv0&list=PLhXu26RzZZTwus4cNbPTcgXXH6oavT6EB&index=14"
   ]
  },
  {
   "cell_type": "code",
   "execution_count": 11,
   "metadata": {},
   "outputs": [
    {
     "name": "stdout",
     "output_type": "stream",
     "text": [
      "(714, 12)\n"
     ]
    }
   ],
   "source": [
    "# specifying axis='colums' will drop any columns that have null values\n",
    "\n",
    "drop_na_colums = titanic_survival.dropna(axis=1)\n",
    "new_titanic_survival = titanic_survival.dropna(axis=0, subset=[\"Age\",\"Sex\"])\n",
    "print(new_titanic_survival.shape)"
   ]
  },
  {
   "cell_type": "code",
   "execution_count": 12,
   "metadata": {},
   "outputs": [
    {
     "name": "stdout",
     "output_type": "stream",
     "text": [
      "28.0\n",
      "1\n"
     ]
    }
   ],
   "source": [
    "row_index_83_age = titanic_survival.loc[83,\"Age\"]\n",
    "row_index_1000_pclass = titanic_survival.loc[766, \"Pclass\"]\n",
    "print(row_index_83_age)\n",
    "print(row_index_1000_pclass)\n"
   ]
  },
  {
   "cell_type": "code",
   "execution_count": 13,
   "metadata": {},
   "outputs": [],
   "source": [
    "# https://www.youtube.com/watch?v=lkuMUD-krdw&list=PLhXu26RzZZTwus4cNbPTcgXXH6oavT6EB&index=15"
   ]
  },
  {
   "cell_type": "code",
   "execution_count": 14,
   "metadata": {},
   "outputs": [
    {
     "name": "stdout",
     "output_type": "stream",
     "text": [
      "     PassengerId  Survived  Pclass                                  Name  \\\n",
      "630          631         1       1  Barkworth, Mr. Algernon Henry Wilson   \n",
      "851          852         0       3                   Svensson, Mr. Johan   \n",
      "493          494         0       1               Artagaveytia, Mr. Ramon   \n",
      "96            97         0       1             Goldschmidt, Mr. George B   \n",
      "116          117         0       3                  Connors, Mr. Patrick   \n",
      "672          673         0       2           Mitchell, Mr. Henry Michael   \n",
      "745          746         0       1          Crosby, Capt. Edward Gifford   \n",
      "33            34         0       2                 Wheadon, Mr. Edward H   \n",
      "54            55         0       1        Ostby, Mr. Engelhart Cornelius   \n",
      "280          281         0       3                      Duane, Mr. Frank   \n",
      "\n",
      "      Sex   Age  SibSp  Parch      Ticket     Fare Cabin Embarked  \n",
      "630  male  80.0      0      0       27042  30.0000   A23        S  \n",
      "851  male  74.0      0      0      347060   7.7750   NaN        S  \n",
      "493  male  71.0      0      0    PC 17609  49.5042   NaN        C  \n",
      "96   male  71.0      0      0    PC 17754  34.6542    A5        C  \n",
      "116  male  70.5      0      0      370369   7.7500   NaN        Q  \n",
      "672  male  70.0      0      0  C.A. 24580  10.5000   NaN        S  \n",
      "745  male  70.0      1      1   WE/P 5735  71.0000   B22        S  \n",
      "33   male  66.0      0      0  C.A. 24579  10.5000   NaN        S  \n",
      "54   male  65.0      0      1      113509  61.9792   B30        C  \n",
      "280  male  65.0      0      0      336439   7.7500   NaN        Q  \n",
      "----------------\n",
      "    PassengerId  Survived  Pclass                                  Name   Sex  \\\n",
      "0           631         1       1  Barkworth, Mr. Algernon Henry Wilson  male   \n",
      "1           852         0       3                   Svensson, Mr. Johan  male   \n",
      "2           494         0       1               Artagaveytia, Mr. Ramon  male   \n",
      "3            97         0       1             Goldschmidt, Mr. George B  male   \n",
      "4           117         0       3                  Connors, Mr. Patrick  male   \n",
      "5           673         0       2           Mitchell, Mr. Henry Michael  male   \n",
      "6           746         0       1          Crosby, Capt. Edward Gifford  male   \n",
      "7            34         0       2                 Wheadon, Mr. Edward H  male   \n",
      "8            55         0       1        Ostby, Mr. Engelhart Cornelius  male   \n",
      "9           281         0       3                      Duane, Mr. Frank  male   \n",
      "10          457         0       1             Millet, Mr. Francis Davis  male   \n",
      "\n",
      "     Age  SibSp  Parch      Ticket     Fare Cabin Embarked  \n",
      "0   80.0      0      0       27042  30.0000   A23        S  \n",
      "1   74.0      0      0      347060   7.7750   NaN        S  \n",
      "2   71.0      0      0    PC 17609  49.5042   NaN        C  \n",
      "3   71.0      0      0    PC 17754  34.6542    A5        C  \n",
      "4   70.5      0      0      370369   7.7500   NaN        Q  \n",
      "5   70.0      0      0  C.A. 24580  10.5000   NaN        S  \n",
      "6   70.0      1      1   WE/P 5735  71.0000   B22        S  \n",
      "7   66.0      0      0  C.A. 24579  10.5000   NaN        S  \n",
      "8   65.0      0      1      113509  61.9792   B30        C  \n",
      "9   65.0      0      0      336439   7.7500   NaN        Q  \n",
      "10  65.0      0      0       13509  26.5500   E38        S  \n"
     ]
    }
   ],
   "source": [
    "new_titanic_survival = titanic_survival.sort_values(\"Age\",ascending=False)\n",
    "print(new_titanic_survival[0:10])\n",
    "titanic_reindexed = new_titanic_survival.reset_index(drop=True)\n",
    "print('----------------')\n",
    "print(titanic_reindexed.loc[0:10])"
   ]
  },
  {
   "cell_type": "code",
   "execution_count": 15,
   "metadata": {},
   "outputs": [
    {
     "name": "stdout",
     "output_type": "stream",
     "text": [
      "PassengerId                  100\n",
      "Survived                       0\n",
      "Pclass                         2\n",
      "Name           Kantor, Mr. Sinai\n",
      "Sex                         male\n",
      "Age                           34\n",
      "SibSp                          1\n",
      "Parch                          0\n",
      "Ticket                    244367\n",
      "Fare                          26\n",
      "Cabin                        NaN\n",
      "Embarked                       S\n",
      "dtype: object\n"
     ]
    }
   ],
   "source": [
    "# this funciton returns the hundredth item from a series\n",
    "def hundredth_row(column):\n",
    "    # Extract the hundredth item\n",
    "    hundredth_item = column.loc[99]\n",
    "    return hundredth_item\n",
    "\n",
    "# Return the hundredth item from each column\n",
    "hundredth_row = titanic_survival.apply(hundredth_row)\n",
    "print(hundredth_row)"
   ]
  },
  {
   "cell_type": "code",
   "execution_count": 16,
   "metadata": {},
   "outputs": [
    {
     "name": "stdout",
     "output_type": "stream",
     "text": [
      "PassengerId      0\n",
      "Survived         0\n",
      "Pclass           0\n",
      "Name             0\n",
      "Sex              0\n",
      "Age            177\n",
      "SibSp            0\n",
      "Parch            0\n",
      "Ticket           0\n",
      "Fare             0\n",
      "Cabin          687\n",
      "Embarked         2\n",
      "dtype: int64\n"
     ]
    }
   ],
   "source": [
    "def not_null_count(column):\n",
    "    column_null = pd.isnull(column)\n",
    "    null = column[column_null]\n",
    "    return len(null)\n",
    "\n",
    "column_null_count = titanic_survival.apply(not_null_count)\n",
    "print(column_null_count)"
   ]
  },
  {
   "cell_type": "code",
   "execution_count": 17,
   "metadata": {},
   "outputs": [
    {
     "name": "stdout",
     "output_type": "stream",
     "text": [
      "0       Third Class\n",
      "1       First Class\n",
      "2       Third Class\n",
      "3       First Class\n",
      "4       Third Class\n",
      "5       Third Class\n",
      "6       First Class\n",
      "7       Third Class\n",
      "8       Third Class\n",
      "9      Second Class\n",
      "10      Third Class\n",
      "11      First Class\n",
      "12      Third Class\n",
      "13      Third Class\n",
      "14      Third Class\n",
      "15     Second Class\n",
      "16      Third Class\n",
      "17     Second Class\n",
      "18      Third Class\n",
      "19      Third Class\n",
      "20     Second Class\n",
      "21     Second Class\n",
      "22      Third Class\n",
      "23      First Class\n",
      "24      Third Class\n",
      "25      Third Class\n",
      "26      Third Class\n",
      "27      First Class\n",
      "28      Third Class\n",
      "29      Third Class\n",
      "           ...     \n",
      "861    Second Class\n",
      "862     First Class\n",
      "863     Third Class\n",
      "864    Second Class\n",
      "865    Second Class\n",
      "866    Second Class\n",
      "867     First Class\n",
      "868     Third Class\n",
      "869     Third Class\n",
      "870     Third Class\n",
      "871     First Class\n",
      "872     First Class\n",
      "873     Third Class\n",
      "874    Second Class\n",
      "875     Third Class\n",
      "876     Third Class\n",
      "877     Third Class\n",
      "878     Third Class\n",
      "879     First Class\n",
      "880    Second Class\n",
      "881     Third Class\n",
      "882     Third Class\n",
      "883    Second Class\n",
      "884     Third Class\n",
      "885     Third Class\n",
      "886    Second Class\n",
      "887     First Class\n",
      "888     Third Class\n",
      "889     First Class\n",
      "890     Third Class\n",
      "Length: 891, dtype: object\n"
     ]
    }
   ],
   "source": [
    "# By passing in the axis=1 argument, we can use the Dataframe.apply() method to iterate over rows instead of\n",
    "def which_class(row):\n",
    "    pclass = row[\"Pclass\"]\n",
    "    if pd.isnull(pclass):\n",
    "        return \"Unknown\"\n",
    "    elif pclass == 1:\n",
    "        return \"First Class\"\n",
    "    elif pclass == 2:\n",
    "        return \"Second Class\"\n",
    "    elif pclass == 3:\n",
    "        return \"Third Class\"\n",
    "    \n",
    "classes = titanic_survival.apply(which_class, axis=1)\n",
    "print(classes)"
   ]
  },
  {
   "cell_type": "code",
   "execution_count": 18,
   "metadata": {},
   "outputs": [
    {
     "name": "stdout",
     "output_type": "stream",
     "text": [
      "0        adult\n",
      "1        adult\n",
      "2        adult\n",
      "3        adult\n",
      "4        adult\n",
      "5      unknown\n",
      "6        adult\n",
      "7        minor\n",
      "8        adult\n",
      "9        minor\n",
      "10       minor\n",
      "11       adult\n",
      "12       adult\n",
      "13       adult\n",
      "14       minor\n",
      "15       adult\n",
      "16       minor\n",
      "17     unknown\n",
      "18       adult\n",
      "19     unknown\n",
      "20       adult\n",
      "21       adult\n",
      "22       minor\n",
      "23       adult\n",
      "24       minor\n",
      "25       adult\n",
      "26     unknown\n",
      "27       adult\n",
      "28     unknown\n",
      "29     unknown\n",
      "        ...   \n",
      "861      adult\n",
      "862      adult\n",
      "863    unknown\n",
      "864      adult\n",
      "865      adult\n",
      "866      adult\n",
      "867      adult\n",
      "868    unknown\n",
      "869      minor\n",
      "870      adult\n",
      "871      adult\n",
      "872      adult\n",
      "873      adult\n",
      "874      adult\n",
      "875      minor\n",
      "876      adult\n",
      "877      adult\n",
      "878    unknown\n",
      "879      adult\n",
      "880      adult\n",
      "881      adult\n",
      "882      adult\n",
      "883      adult\n",
      "884      adult\n",
      "885      adult\n",
      "886      adult\n",
      "887      adult\n",
      "888    unknown\n",
      "889      adult\n",
      "890      adult\n",
      "Length: 891, dtype: object\n"
     ]
    }
   ],
   "source": [
    "def is_minor(row):\n",
    "    if row[\"Age\"] < 18:\n",
    "        return True\n",
    "    else:\n",
    "        return False\n",
    "    \n",
    "minors = titanic_survival.apply(is_minor, axis=1)\n",
    "# print(minors)\n",
    "def generate_age_label(row):\n",
    "    age = row[\"Age\"]\n",
    "    if pd.isnull(age):\n",
    "        return \"unknown\"\n",
    "    elif age < 18:\n",
    "        return \"minor\"\n",
    "    else:\n",
    "        return \"adult\"\n",
    "    \n",
    "age_labels = titanic_survival.apply(generate_age_label, axis=1)\n",
    "print(age_labels)"
   ]
  },
  {
   "cell_type": "code",
   "execution_count": 19,
   "metadata": {},
   "outputs": [
    {
     "name": "stdout",
     "output_type": "stream",
     "text": [
      "            Survived\n",
      "age_labels          \n",
      "adult       0.381032\n",
      "minor       0.539823\n",
      "unknown     0.293785\n"
     ]
    }
   ],
   "source": [
    "titanic_survival['age_labels'] = age_labels\n",
    "age_group_survival = titanic_survival.pivot_table(index=\"age_labels\", values=\"Survived\")\n",
    "print(age_group_survival)"
   ]
  },
  {
   "cell_type": "code",
   "execution_count": 20,
   "metadata": {},
   "outputs": [],
   "source": [
    "# https://www.youtube.com/watch?v=LZI8-eb9JfQ&list=PLhXu26RzZZTwus4cNbPTcgXXH6oavT6EB&index=16"
   ]
  },
  {
   "cell_type": "code",
   "execution_count": null,
   "metadata": {},
   "outputs": [],
   "source": [
    "# Series (collection of values)\n",
    "# Dataframe (collection of Series objects)\n",
    "\n",
    "# A Series oject can hold many data types, including\n",
    "# float - for representing float values\n",
    "# int - for representing integer values\n",
    "# bool - for representing Boolean values\n",
    "# ...\n",
    "\n",
    "# FILM - film name\n",
    "# RottenTomatoes - Rotten Tomatoes critics average score\n",
    "# ...\n"
   ]
  },
  {
   "cell_type": "code",
   "execution_count": 22,
   "metadata": {},
   "outputs": [
    {
     "name": "stdout",
     "output_type": "stream",
     "text": [
      "<class 'pandas.core.series.Series'>\n",
      "0    Avengers: Age of Ultron (2015)\n",
      "1                 Cinderella (2015)\n",
      "2                    Ant-Man (2015)\n",
      "3            Do You Believe? (2015)\n",
      "4     Hot Tub Time Machine 2 (2015)\n",
      "Name: FILM, dtype: object\n",
      "0    74\n",
      "1    85\n",
      "2    80\n",
      "3    18\n",
      "4    14\n",
      "Name: RottenTomatoes, dtype: int64\n"
     ]
    }
   ],
   "source": [
    "import pandas as pd\n",
    "fandango = pd.read_csv('fandango_score_comparison.csv')\n",
    "series_film = fandango['FILM']\n",
    "print(type(series_film))\n",
    "print(series_film[0:5])\n",
    "series_rt = fandango['RottenTomatoes']\n",
    "print(series_rt[0:5])"
   ]
  },
  {
   "cell_type": "code",
   "execution_count": 28,
   "metadata": {},
   "outputs": [
    {
     "name": "stdout",
     "output_type": "stream",
     "text": [
      "<class 'numpy.ndarray'>\n",
      "Minions (2015)      54\n",
      "Leviathan (2014)    99\n",
      "dtype: int64\n",
      "Avengers: Age of Ultron (2015)                     74\n",
      "Cinderella (2015)                                  85\n",
      "Ant-Man (2015)                                     80\n",
      "Do You Believe? (2015)                             18\n",
      "Hot Tub Time Machine 2 (2015)                      14\n",
      "The Water Diviner (2015)                           63\n",
      "Irrational Man (2015)                              42\n",
      "Top Five (2014)                                    86\n",
      "Shaun the Sheep Movie (2015)                       99\n",
      "Love & Mercy (2015)                                89\n",
      "Far From The Madding Crowd (2015)                  84\n",
      "Black Sea (2015)                                   82\n",
      "Leviathan (2014)                                   99\n",
      "Unbroken (2014)                                    51\n",
      "The Imitation Game (2014)                          90\n",
      "Taken 3 (2015)                                      9\n",
      "Ted 2 (2015)                                       46\n",
      "Southpaw (2015)                                    59\n",
      "Night at the Museum: Secret of the Tomb (2014)     50\n",
      "Pixels (2015)                                      17\n",
      "McFarland, USA (2015)                              79\n",
      "Insidious: Chapter 3 (2015)                        59\n",
      "The Man From U.N.C.L.E. (2015)                     68\n",
      "Run All Night (2015)                               60\n",
      "Trainwreck (2015)                                  85\n",
      "Selma (2014)                                       99\n",
      "Ex Machina (2015)                                  92\n",
      "Still Alice (2015)                                 88\n",
      "Wild Tales (2014)                                  96\n",
      "The End of the Tour (2015)                         92\n",
      "                                                 ... \n",
      "Clouds of Sils Maria (2015)                        89\n",
      "Testament of Youth (2015)                          81\n",
      "Infinitely Polar Bear (2015)                       80\n",
      "Phoenix (2015)                                     99\n",
      "The Wolfpack (2015)                                84\n",
      "The Stanford Prison Experiment (2015)              84\n",
      "Tangerine (2015)                                   95\n",
      "Magic Mike XXL (2015)                              62\n",
      "Home (2015)                                        45\n",
      "The Wedding Ringer (2015)                          27\n",
      "Woman in Gold (2015)                               52\n",
      "The Last Five Years (2015)                         60\n",
      "Mission: Impossible â€“ Rogue Nation (2015)        92\n",
      "Amy (2015)                                         97\n",
      "Jurassic World (2015)                              71\n",
      "Minions (2015)                                     54\n",
      "Max (2015)                                         35\n",
      "Paul Blart: Mall Cop 2 (2015)                       5\n",
      "The Longest Ride (2015)                            31\n",
      "The Lazarus Effect (2015)                          14\n",
      "The Woman In Black 2 Angel of Death (2015)         22\n",
      "Danny Collins (2015)                               77\n",
      "Spare Parts (2015)                                 52\n",
      "Serena (2015)                                      18\n",
      "Inside Out (2015)                                  98\n",
      "Mr. Holmes (2015)                                  87\n",
      "'71 (2015)                                         97\n",
      "Two Days, One Night (2014)                         97\n",
      "Gett: The Trial of Viviane Amsalem (2015)         100\n",
      "Kumiko, The Treasure Hunter (2015)                 87\n",
      "Length: 146, dtype: int64\n"
     ]
    }
   ],
   "source": [
    "\n",
    "film_names = series_film.values\n",
    "print(type(film_names))\n",
    "#print(film_names)\n",
    "\n",
    "rt_scores = series_rt.values\n",
    "# print(rt_scores)\n",
    "\n",
    "series_custom = pd.Series(rt_scores, index=film_names)\n",
    "print(series_custom[['Minions (2015)', 'Leviathan (2014)']])\n",
    "print(series_custom)"
   ]
  },
  {
   "cell_type": "code",
   "execution_count": 29,
   "metadata": {},
   "outputs": [
    {
     "name": "stdout",
     "output_type": "stream",
     "text": [
      "The Water Diviner (2015)        63\n",
      "Irrational Man (2015)           42\n",
      "Top Five (2014)                 86\n",
      "Shaun the Sheep Movie (2015)    99\n",
      "Love & Mercy (2015)             89\n",
      "dtype: int64\n"
     ]
    }
   ],
   "source": [
    "fiveten = series_custom[5:10]\n",
    "print(fiveten)"
   ]
  },
  {
   "cell_type": "code",
   "execution_count": 32,
   "metadata": {},
   "outputs": [
    {
     "name": "stdout",
     "output_type": "stream",
     "text": [
      "'71 (2015)                                         97\n",
      "5 Flights Up (2015)                                52\n",
      "A Little Chaos (2015)                              40\n",
      "A Most Violent Year (2014)                         90\n",
      "About Elly (2015)                                  97\n",
      "Aloha (2015)                                       19\n",
      "American Sniper (2015)                             72\n",
      "American Ultra (2015)                              46\n",
      "Amy (2015)                                         97\n",
      "Annie (2014)                                       27\n",
      "Ant-Man (2015)                                     80\n",
      "Avengers: Age of Ultron (2015)                     74\n",
      "Big Eyes (2014)                                    72\n",
      "Birdman (2014)                                     92\n",
      "Black Sea (2015)                                   82\n",
      "Black or White (2015)                              39\n",
      "Blackhat (2015)                                    34\n",
      "Cake (2015)                                        49\n",
      "Chappie (2015)                                     30\n",
      "Child 44 (2015)                                    26\n",
      "Cinderella (2015)                                  85\n",
      "Clouds of Sils Maria (2015)                        89\n",
      "Danny Collins (2015)                               77\n",
      "Dark Places (2015)                                 26\n",
      "Do You Believe? (2015)                             18\n",
      "Dope (2015)                                        87\n",
      "Entourage (2015)                                   32\n",
      "Escobar: Paradise Lost (2015)                      52\n",
      "Ex Machina (2015)                                  92\n",
      "Fantastic Four (2015)                               9\n",
      "                                                   ..\n",
      "The Loft (2015)                                    11\n",
      "The Longest Ride (2015)                            31\n",
      "The Man From U.N.C.L.E. (2015)                     68\n",
      "The Overnight (2015)                               82\n",
      "The Salt of the Earth (2015)                       96\n",
      "The Second Best Exotic Marigold Hotel (2015)       62\n",
      "The SpongeBob Movie: Sponge Out of Water (2015)    78\n",
      "The Stanford Prison Experiment (2015)              84\n",
      "The Vatican Tapes (2015)                           13\n",
      "The Water Diviner (2015)                           63\n",
      "The Wedding Ringer (2015)                          27\n",
      "The Wolfpack (2015)                                84\n",
      "The Woman In Black 2 Angel of Death (2015)         22\n",
      "The Wrecking Crew (2015)                           93\n",
      "Timbuktu (2015)                                    99\n",
      "Tomorrowland (2015)                                50\n",
      "Top Five (2014)                                    86\n",
      "Trainwreck (2015)                                  85\n",
      "True Story (2015)                                  45\n",
      "Two Days, One Night (2014)                         97\n",
      "Unbroken (2014)                                    51\n",
      "Unfinished Business (2015)                         11\n",
      "Unfriended (2015)                                  60\n",
      "Vacation (2015)                                    27\n",
      "Welcome to Me (2015)                               71\n",
      "What We Do in the Shadows (2015)                   96\n",
      "When Marnie Was There (2015)                       89\n",
      "While We're Young (2015)                           83\n",
      "Wild Tales (2014)                                  96\n",
      "Woman in Gold (2015)                               52\n",
      "Length: 146, dtype: int64\n"
     ]
    }
   ],
   "source": [
    "original_index = series_custom.index.tolist()\n",
    "#print(original_index)\n",
    "sorted_index = sorted(original_index)\n",
    "sorted_by_index = series_custom.reindex(sorted_index)\n",
    "print(sorted_by_index)"
   ]
  },
  {
   "cell_type": "code",
   "execution_count": 34,
   "metadata": {},
   "outputs": [
    {
     "name": "stdout",
     "output_type": "stream",
     "text": [
      "'71 (2015)                    97\n",
      "5 Flights Up (2015)           52\n",
      "A Little Chaos (2015)         40\n",
      "A Most Violent Year (2014)    90\n",
      "About Elly (2015)             97\n",
      "Aloha (2015)                  19\n",
      "American Sniper (2015)        72\n",
      "American Ultra (2015)         46\n",
      "Amy (2015)                    97\n",
      "Annie (2014)                  27\n",
      "dtype: int64\n",
      "Paul Blart: Mall Cop 2 (2015)     5\n",
      "Hitman: Agent 47 (2015)           7\n",
      "Hot Pursuit (2015)                8\n",
      "Fantastic Four (2015)             9\n",
      "Taken 3 (2015)                    9\n",
      "The Boy Next Door (2015)         10\n",
      "The Loft (2015)                  11\n",
      "Unfinished Business (2015)       11\n",
      "Mortdecai (2015)                 12\n",
      "Seventh Son (2015)               12\n",
      "dtype: int64\n"
     ]
    }
   ],
   "source": [
    "sc2 = series_custom.sort_index()\n",
    "sc3 = series_custom.sort_values()\n",
    "print(sc2.head(10))\n",
    "print(sc3.head(10))"
   ]
  },
  {
   "cell_type": "code",
   "execution_count": 35,
   "metadata": {},
   "outputs": [
    {
     "name": "stdout",
     "output_type": "stream",
     "text": [
      "Avengers: Age of Ultron (2015)                    148\n",
      "Cinderella (2015)                                 170\n",
      "Ant-Man (2015)                                    160\n",
      "Do You Believe? (2015)                             36\n",
      "Hot Tub Time Machine 2 (2015)                      28\n",
      "The Water Diviner (2015)                          126\n",
      "Irrational Man (2015)                              84\n",
      "Top Five (2014)                                   172\n",
      "Shaun the Sheep Movie (2015)                      198\n",
      "Love & Mercy (2015)                               178\n",
      "Far From The Madding Crowd (2015)                 168\n",
      "Black Sea (2015)                                  164\n",
      "Leviathan (2014)                                  198\n",
      "Unbroken (2014)                                   102\n",
      "The Imitation Game (2014)                         180\n",
      "Taken 3 (2015)                                     18\n",
      "Ted 2 (2015)                                       92\n",
      "Southpaw (2015)                                   118\n",
      "Night at the Museum: Secret of the Tomb (2014)    100\n",
      "Pixels (2015)                                      34\n",
      "McFarland, USA (2015)                             158\n",
      "Insidious: Chapter 3 (2015)                       118\n",
      "The Man From U.N.C.L.E. (2015)                    136\n",
      "Run All Night (2015)                              120\n",
      "Trainwreck (2015)                                 170\n",
      "Selma (2014)                                      198\n",
      "Ex Machina (2015)                                 184\n",
      "Still Alice (2015)                                176\n",
      "Wild Tales (2014)                                 192\n",
      "The End of the Tour (2015)                        184\n",
      "                                                 ... \n",
      "Clouds of Sils Maria (2015)                       178\n",
      "Testament of Youth (2015)                         162\n",
      "Infinitely Polar Bear (2015)                      160\n",
      "Phoenix (2015)                                    198\n",
      "The Wolfpack (2015)                               168\n",
      "The Stanford Prison Experiment (2015)             168\n",
      "Tangerine (2015)                                  190\n",
      "Magic Mike XXL (2015)                             124\n",
      "Home (2015)                                        90\n",
      "The Wedding Ringer (2015)                          54\n",
      "Woman in Gold (2015)                              104\n",
      "The Last Five Years (2015)                        120\n",
      "Mission: Impossible â€“ Rogue Nation (2015)       184\n",
      "Amy (2015)                                        194\n",
      "Jurassic World (2015)                             142\n",
      "Minions (2015)                                    108\n",
      "Max (2015)                                         70\n",
      "Paul Blart: Mall Cop 2 (2015)                      10\n",
      "The Longest Ride (2015)                            62\n",
      "The Lazarus Effect (2015)                          28\n",
      "The Woman In Black 2 Angel of Death (2015)         44\n",
      "Danny Collins (2015)                              154\n",
      "Spare Parts (2015)                                104\n",
      "Serena (2015)                                      36\n",
      "Inside Out (2015)                                 196\n",
      "Mr. Holmes (2015)                                 174\n",
      "'71 (2015)                                        194\n",
      "Two Days, One Night (2014)                        194\n",
      "Gett: The Trial of Viviane Amsalem (2015)         200\n",
      "Kumiko, The Treasure Hunter (2015)                174\n",
      "Length: 146, dtype: int64\n"
     ]
    },
    {
     "data": {
      "text/plain": [
       "100"
      ]
     },
     "execution_count": 35,
     "metadata": {},
     "output_type": "execute_result"
    }
   ],
   "source": [
    "import numpy as np\n",
    "print(np.add(series_custom, series_custom))\n",
    "np.sin(series_custom)\n",
    "np.max(series_custom)"
   ]
  },
  {
   "cell_type": "code",
   "execution_count": 39,
   "metadata": {},
   "outputs": [
    {
     "name": "stdout",
     "output_type": "stream",
     "text": [
      "Avengers: Age of Ultron (2015)                                            74\n",
      "The Water Diviner (2015)                                                  63\n",
      "Unbroken (2014)                                                           51\n",
      "Southpaw (2015)                                                           59\n",
      "Insidious: Chapter 3 (2015)                                               59\n",
      "The Man From U.N.C.L.E. (2015)                                            68\n",
      "Run All Night (2015)                                                      60\n",
      "5 Flights Up (2015)                                                       52\n",
      "Welcome to Me (2015)                                                      71\n",
      "Saint Laurent (2015)                                                      51\n",
      "Maps to the Stars (2015)                                                  60\n",
      "Pitch Perfect 2 (2015)                                                    67\n",
      "The Age of Adaline (2015)                                                 54\n",
      "The DUFF (2015)                                                           71\n",
      "Ricki and the Flash (2015)                                                64\n",
      "Unfriended (2015)                                                         60\n",
      "American Sniper (2015)                                                    72\n",
      "The Hobbit: The Battle of the Five Armies (2014)                          61\n",
      "Paper Towns (2015)                                                        55\n",
      "Big Eyes (2014)                                                           72\n",
      "Maggie (2015)                                                             54\n",
      "Focus (2015)                                                              57\n",
      "The Second Best Exotic Marigold Hotel (2015)                              62\n",
      "The 100-Year-Old Man Who Climbed Out the Window and Disappeared (2015)    67\n",
      "Escobar: Paradise Lost (2015)                                             52\n",
      "Into the Woods (2014)                                                     71\n",
      "Inherent Vice (2014)                                                      73\n",
      "Magic Mike XXL (2015)                                                     62\n",
      "Woman in Gold (2015)                                                      52\n",
      "The Last Five Years (2015)                                                60\n",
      "Jurassic World (2015)                                                     71\n",
      "Minions (2015)                                                            54\n",
      "Spare Parts (2015)                                                        52\n",
      "dtype: int64\n"
     ]
    }
   ],
   "source": [
    "series_custom > 50\n",
    "series_greater_than_50 = series_custom[series_custom > 50]\n",
    "\n",
    "criteria_one = series_custom > 50\n",
    "criteria_two = series_custom < 75\n",
    "both_criteria = series_custom[criteria_one & criteria_two]\n",
    "print(both_criteria)"
   ]
  },
  {
   "cell_type": "code",
   "execution_count": 40,
   "metadata": {},
   "outputs": [
    {
     "name": "stdout",
     "output_type": "stream",
     "text": [
      "FILM\n",
      "Avengers: Age of Ultron (2015)                    80.0\n",
      "Cinderella (2015)                                 82.5\n",
      "Ant-Man (2015)                                    85.0\n",
      "Do You Believe? (2015)                            51.0\n",
      "Hot Tub Time Machine 2 (2015)                     21.0\n",
      "The Water Diviner (2015)                          62.5\n",
      "Irrational Man (2015)                             47.5\n",
      "Top Five (2014)                                   75.0\n",
      "Shaun the Sheep Movie (2015)                      90.5\n",
      "Love & Mercy (2015)                               88.0\n",
      "Far From The Madding Crowd (2015)                 80.5\n",
      "Black Sea (2015)                                  71.0\n",
      "Leviathan (2014)                                  89.0\n",
      "Unbroken (2014)                                   60.5\n",
      "The Imitation Game (2014)                         91.0\n",
      "Taken 3 (2015)                                    27.5\n",
      "Ted 2 (2015)                                      52.0\n",
      "Southpaw (2015)                                   69.5\n",
      "Night at the Museum: Secret of the Tomb (2014)    54.0\n",
      "Pixels (2015)                                     35.5\n",
      "McFarland, USA (2015)                             84.0\n",
      "Insidious: Chapter 3 (2015)                       57.5\n",
      "The Man From U.N.C.L.E. (2015)                    74.0\n",
      "Run All Night (2015)                              59.5\n",
      "Trainwreck (2015)                                 79.5\n",
      "Selma (2014)                                      92.5\n",
      "Ex Machina (2015)                                 89.0\n",
      "Still Alice (2015)                                86.5\n",
      "Wild Tales (2014)                                 94.0\n",
      "The End of the Tour (2015)                        90.5\n",
      "                                                  ... \n",
      "Clouds of Sils Maria (2015)                       78.0\n",
      "Testament of Youth (2015)                         80.0\n",
      "Infinitely Polar Bear (2015)                      78.0\n",
      "Phoenix (2015)                                    90.0\n",
      "The Wolfpack (2015)                               78.5\n",
      "The Stanford Prison Experiment (2015)             85.5\n",
      "Tangerine (2015)                                  90.5\n",
      "Magic Mike XXL (2015)                             63.0\n",
      "Home (2015)                                       55.0\n",
      "The Wedding Ringer (2015)                         46.5\n",
      "Woman in Gold (2015)                              66.5\n",
      "The Last Five Years (2015)                        60.0\n",
      "Mission: Impossible â€“ Rogue Nation (2015)       91.0\n",
      "Amy (2015)                                        94.0\n",
      "Jurassic World (2015)                             76.0\n",
      "Minions (2015)                                    53.0\n",
      "Max (2015)                                        54.0\n",
      "Paul Blart: Mall Cop 2 (2015)                     20.5\n",
      "The Longest Ride (2015)                           52.0\n",
      "The Lazarus Effect (2015)                         18.5\n",
      "The Woman In Black 2 Angel of Death (2015)        23.5\n",
      "Danny Collins (2015)                              76.0\n",
      "Spare Parts (2015)                                67.5\n",
      "Serena (2015)                                     21.5\n",
      "Inside Out (2015)                                 94.0\n",
      "Mr. Holmes (2015)                                 82.5\n",
      "'71 (2015)                                        89.5\n",
      "Two Days, One Night (2014)                        87.5\n",
      "Gett: The Trial of Viviane Amsalem (2015)         90.5\n",
      "Kumiko, The Treasure Hunter (2015)                75.0\n",
      "Length: 146, dtype: float64\n"
     ]
    }
   ],
   "source": [
    "rt_critics = pd.Series(fandango['RottenTomatoes'].values, index=fandango['FILM'])\n",
    "rt_users = pd.Series(fandango['RottenTomatoes_User'].values, index=fandango['FILM'])\n",
    "rt_mean = (rt_critics + rt_users) / 2\n",
    "print(rt_mean)"
   ]
  },
  {
   "cell_type": "code",
   "execution_count": null,
   "metadata": {},
   "outputs": [],
   "source": []
  }
 ],
 "metadata": {
  "kernelspec": {
   "display_name": "Python 3",
   "language": "python",
   "name": "python3"
  },
  "language_info": {
   "codemirror_mode": {
    "name": "ipython",
    "version": 3
   },
   "file_extension": ".py",
   "mimetype": "text/x-python",
   "name": "python",
   "nbconvert_exporter": "python",
   "pygments_lexer": "ipython3",
   "version": "3.6.6"
  }
 },
 "nbformat": 4,
 "nbformat_minor": 2
}
